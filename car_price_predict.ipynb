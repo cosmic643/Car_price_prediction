{
  "nbformat": 4,
  "nbformat_minor": 0,
  "metadata": {
    "colab": {
      "name": "car_price_predict.ipynb",
      "provenance": [],
      "collapsed_sections": [],
      "authorship_tag": "ABX9TyO30O3oeWZf98hHL97iDllN",
      "include_colab_link": true
    },
    "kernelspec": {
      "name": "python3",
      "display_name": "Python 3"
    },
    "language_info": {
      "name": "python"
    }
  },
  "cells": [
    {
      "cell_type": "markdown",
      "metadata": {
        "id": "view-in-github",
        "colab_type": "text"
      },
      "source": [
        "<a href=\"https://colab.research.google.com/github/cosmic643/Car_price_prediction/blob/main/car_price_predict.ipynb\" target=\"_parent\"><img src=\"https://colab.research.google.com/assets/colab-badge.svg\" alt=\"Open In Colab\"/></a>"
      ]
    },
    {
      "cell_type": "code",
      "execution_count": 1,
      "metadata": {
        "colab": {
          "base_uri": "https://localhost:8080/"
        },
        "id": "90EdDtoWdg5d",
        "outputId": "6633b946-06c1-44fb-cbe1-9bf28a8b952b"
      },
      "outputs": [
        {
          "output_type": "stream",
          "name": "stdout",
          "text": [
            "Mounted at /content/drive\n"
          ]
        }
      ],
      "source": [
        "from google.colab import drive\n",
        "drive.mount('/content/drive')\n",
        "import pandas as pd\n",
        "from sklearn.preprocessing import LabelEncoder\n",
        "import seaborn as sns\n",
        "import matplotlib.pyplot as plt\n",
        "import numpy as np"
      ]
    },
    {
      "cell_type": "code",
      "source": [
        "path = \"/content/drive/MyDrive/cars_engage_2022.csv\"\n",
        "cars = pd.read_csv(path)\n",
        "cars_temp = pd.read_csv(path)\n",
        "lab_enc = LabelEncoder()"
      ],
      "metadata": {
        "id": "evSkHQAXDrgd"
      },
      "execution_count": 33,
      "outputs": []
    },
    {
      "cell_type": "markdown",
      "source": [
        "Data Cleaning i.e.\n",
        "1. Filling all the missing values with their mode or mean\n",
        "2. Label Encoding the Categorical Data\n",
        "3. Manually Filling some Missing Data that is purely factual"
      ],
      "metadata": {
        "id": "w6kjcefRhGJM"
      }
    },
    {
      "cell_type": "code",
      "source": [
        "cars['Ex-Showroom_Price'] = cars['Ex-Showroom_Price'].str.replace(\"Rs.\",\"\").str.replace(\",\",\"\")\n",
        "cars['Ex-Showroom_Price']=pd.to_numeric(cars['Ex-Showroom_Price'],errors='coerce')\n",
        "cars['Ex-Showroom_Price']=cars['Ex-Showroom_Price'].fillna(cars['Ex-Showroom_Price'].mean())\n",
        "cars['Displacement']=cars['Displacement'].str.replace(\"cc\",\"\")\n",
        "cars['Displacement']=pd.to_numeric(cars['Displacement'],errors='coerce')\n",
        "cars['Displacement'] = cars['Displacement'].fillna(cars['Displacement'].mean())\n",
        "cars['Valves_Per_Cylinder'] = cars['Valves_Per_Cylinder'].fillna(cars['Valves_Per_Cylinder'].mode()[0])\n",
        "cars['Cylinder'] = cars['Cylinders'].fillna(cars['Cylinders'].mode()[0])\n",
        "cars['Fuel_Tank_Capacity'] = cars['Fuel_Tank_Capacity'].str.replace(\" litres\",\"\")\n",
        "cars['Fuel_Tank_Capacity'] = pd.to_numeric(cars['Fuel_Tank_Capacity'],errors='coerce')\n",
        "cars['Fuel_Tank_Capacity'] = cars['Fuel_Tank_Capacity'].fillna(cars['Fuel_Tank_Capacity'].mean())\n",
        "cars['Height'] = cars['Height'].str.replace(\"mm\",\"\")\n",
        "cars['Height'] = pd.to_numeric(cars['Height'],errors='coerce')\n",
        "cars['Height'] = cars['Height'].fillna(cars['Height'].mean())\n",
        "cars['Length'] = cars['Length'].str.replace(\"mm\",\"\")\n",
        "cars['Length'] = pd.to_numeric(cars['Length'],errors='coerce')\n",
        "cars['Length'] = cars['Length'].fillna(cars['Length'].mean())\n",
        "cars['Width'] = cars['Width'].str.replace(\"mm\",\"\")\n",
        "cars['Width'] = pd.to_numeric(cars['Width'],errors='coerce')\n",
        "cars['Width'] = cars['Width'].fillna(cars['Width'].mean())\n",
        "cars['City_Mileage']=cars['City_Mileage'].str.replace(\"km/litre\",\"\")\n",
        "cars['City_Mileage']=pd.to_numeric(cars['City_Mileage'],errors='coerce')\n",
        "cars['City_Mileage'] = cars['City_Mileage'].fillna(cars['City_Mileage'].mean())\n",
        "cars['Highway_Mileage']=cars['Highway_Mileage'].str.replace(\"km/litre\",\"\")\n",
        "cars['Highway_Mileage']=pd.to_numeric(cars['Highway_Mileage'],errors='coerce')\n",
        "cars['Highway_Mileage'] = cars['Highway_Mileage'].fillna(cars['Highway_Mileage'].mean())\n",
        "cars['ARAI_Certified_Mileage'] = cars['ARAI_Certified_Mileage'].str.replace(\"km/litre\",\"\")\n",
        "cars['ARAI_Certified_Mileage'] = pd.to_numeric(cars['ARAI_Certified_Mileage'],errors='coerce')\n",
        "cars['ARAI_Certified_Mileage'] = cars['ARAI_Certified_Mileage'].fillna(cars['ARAI_Certified_Mileage'].mean())\n",
        "cars['ARAI_Certified_Mileage_for_CNG'] = cars['ARAI_Certified_Mileage_for_CNG'].str.replace(\"km/kg\",\"\")\n",
        "cars['ARAI_Certified_Mileage_for_CNG'] = pd.to_numeric(cars['ARAI_Certified_Mileage_for_CNG'],errors='coerce')\n",
        "cars['ARAI_Certified_Mileage_for_CNG'] = cars['ARAI_Certified_Mileage_for_CNG'].fillna(cars['ARAI_Certified_Mileage_for_CNG'].mean())\n",
        "cars['Kerb_Weight'] = cars['Kerb_Weight'].str.replace(\"kg\",\"\")\n",
        "cars['Kerb_Weight'] = pd.to_numeric(cars['Kerb_Weight'],errors='coerce')\n",
        "cars['Kerb_Weight'] = cars['Kerb_Weight'].fillna(cars['Kerb_Weight'].mean())\n",
        "cars['Ground_Clearance'] = cars['Ground_Clearance'].str.replace(\"mm\",\"\")\n",
        "cars['Ground_Clearance'] = pd.to_numeric(cars['Ground_Clearance'],errors='coerce')\n",
        "cars['Ground_Clearance'] = cars['Ground_Clearance'].fillna(cars['Ground_Clearance'].mean())\n",
        "cars['Front_Track'] = cars['Front_Track'].str.replace(\"mm\",\"\")\n",
        "cars['Front_Track'] = pd.to_numeric(cars['Front_Track'],errors='coerce')\n",
        "cars['Front_Track'] = cars['Front_Track'].fillna(cars['Front_Track'].mean())\n",
        "cars['Rear_Track'] = cars['Rear_Track'].str.replace(\"mm\",\"\")\n",
        "cars['Rear_Track'] = pd.to_numeric(cars['Rear_Track'],errors='coerce')\n",
        "cars['Rear_Track'] = cars['Rear_Track'].fillna(cars['Rear_Track'].mean())\n",
        "cars['Wheelbase'] = cars['Wheelbase'].str.replace(\"mm\",\"\")\n",
        "cars['Wheelbase'] = pd.to_numeric(cars['Wheelbase'],errors='coerce')\n",
        "cars['Wheelbase'] = cars['Wheelbase'].fillna(cars['Wheelbase'].mean())\n",
        "cars['Boot_Space'] = cars['Boot_Space'].str.replace(\"litres\",\"\")\n",
        "cars['Boot_Space'] = pd.to_numeric(cars['Boot_Space'],errors='coerce')\n",
        "cars['Boot_Space'] = cars['Boot_Space'].fillna(cars['Boot_Space'].mean())\n",
        "cars['Minimum_Turning_Radius'] = cars['Minimum_Turning_Radius'].str.replace(\"meter\",\"\")\n",
        "cars['Minimum_Turning_Radius'] = pd.to_numeric(cars['Minimum_Turning_Radius'],errors='coerce')\n",
        "cars['Minimum_Turning_Radius'] = cars['Minimum_Turning_Radius'].fillna(cars['Minimum_Turning_Radius'].mean())\n",
        "cars['Gross_Vehicle_Weight'] = cars['Gross_Vehicle_Weight'].str.replace(\"kg\",\"\")\n",
        "cars['Gross_Vehicle_Weight'] = pd.to_numeric(cars['Gross_Vehicle_Weight'],errors='coerce')\n",
        "cars['Gross_Vehicle_Weight'] = cars['Gross_Vehicle_Weight'].fillna(cars['Gross_Vehicle_Weight'].mean())\n",
        "cars['Electric_Range'] = cars['Electric_Range'].str.replace(\"km/full charge\",\"\")\n",
        "cars['Electric_Range'] = pd.to_numeric(cars['Electric_Range'],errors='coerce')\n",
        "cars['Electric_Range'] = cars['Electric_Range'].fillna(cars['Electric_Range'].mean())\n",
        "cars['Battery']=cars['Battery'].str.replace(\"ampere-hour\",\"\").str.replace(\"kWh,Battery Placed Under Rear Seats\",\"\").str.replace(\"(kWh), Lithium Ion\",\"\").str.replace(\" kWh* Advanced Li-ion polymer, liquid cooled battery pack with IP67 certification\",\"\").str.replace(\"\",\"\").str.replace(\"(kWh), Lithium Ion\",\"\")\n",
        "cars['Battery']=pd.to_numeric(cars['Battery'],errors='coerce')\n",
        "cars['Battery']=cars['Battery'].fillna(cars['Battery'].mean())\n",
        "cars['Gears']=pd.to_numeric(cars['Gears'],errors='coerce')\n",
        "cars['Gears']=cars['Gears'].fillna(cars['Gears'].mode())\n",
        "cars['Compression_Ratio']=pd.to_numeric(cars['Compression_Ratio'],errors='coerce')\n",
        "cars['USB_Ports']=pd.to_numeric(cars['USB_Ports'],errors='coerce')\n",
        "cars['USB_Ports']=cars['USB_Ports'].fillna(cars['USB_Ports'].mean())\n",
        "cars['Seating_Capacity']=cars['Seating_Capacity'].fillna(cars['Seating_Capacity'].median())\n",
        "cars['Compression_Ratio']=cars['Compression_Ratio'].fillna(cars['Compression_Ratio'].mean())\n",
        "cars"
      ],
      "metadata": {
        "id": "YXKzn-MXdzNK",
        "colab": {
          "base_uri": "https://localhost:8080/",
          "height": 904
        },
        "outputId": "1cca9e0b-c685-4643-efeb-88cf7bacdee0"
      },
      "execution_count": 34,
      "outputs": [
        {
          "output_type": "stream",
          "name": "stderr",
          "text": [
            "/usr/local/lib/python3.7/dist-packages/ipykernel_launcher.py:1: FutureWarning: The default value of regex will change from True to False in a future version.\n",
            "  \"\"\"Entry point for launching an IPython kernel.\n",
            "/usr/local/lib/python3.7/dist-packages/ipykernel_launcher.py:60: FutureWarning: The default value of regex will change from True to False in a future version.\n"
          ]
        },
        {
          "output_type": "execute_result",
          "data": {
            "text/plain": [
              "      Unnamed: 0        Make      Model        Variant  Ex-Showroom_Price  \\\n",
              "0              0        Tata  Nano Genx             Xt             292667   \n",
              "1              1        Tata  Nano Genx             Xe             236447   \n",
              "2              2        Tata  Nano Genx        Emax Xm             296661   \n",
              "3              3        Tata  Nano Genx            Xta             334768   \n",
              "4              4        Tata  Nano Genx             Xm             272223   \n",
              "...          ...         ...        ...            ...                ...   \n",
              "1271        1271       Honda       City   Vx Mt Diesel            1302000   \n",
              "1272        1272       Honda       City   Zx Mt Diesel            1421000   \n",
              "1273        1273       Honda       City  Zx Cvt Petrol            1431000   \n",
              "1274        1274       Honda       City   V Cvt Petrol            1201000   \n",
              "1275        1275  Mitsubishi    Montero         3.2 At            6862560   \n",
              "\n",
              "      Displacement  Cylinders  Valves_Per_Cylinder               Drivetrain  \\\n",
              "0            624.0        2.0                  2.0   RWD (Rear Wheel Drive)   \n",
              "1            624.0        2.0                  2.0   RWD (Rear Wheel Drive)   \n",
              "2            624.0        2.0                  2.0   RWD (Rear Wheel Drive)   \n",
              "3            624.0        2.0                  2.0   RWD (Rear Wheel Drive)   \n",
              "4            624.0        2.0                  2.0   RWD (Rear Wheel Drive)   \n",
              "...            ...        ...                  ...                      ...   \n",
              "1271        1498.0        4.0                  4.0  FWD (Front Wheel Drive)   \n",
              "1272        1498.0        4.0                  4.0  FWD (Front Wheel Drive)   \n",
              "1273        1497.0        4.0                  4.0  FWD (Front Wheel Drive)   \n",
              "1274        1497.0        4.0                  4.0  FWD (Front Wheel Drive)   \n",
              "1275        3200.0        4.0                  4.0    AWD (All Wheel Drive)   \n",
              "\n",
              "     Cylinder_Configuration  ... Automatic_Headlamps Engine_Type  \\\n",
              "0                   In-line  ...                 NaN         NaN   \n",
              "1                   In-line  ...                 NaN         NaN   \n",
              "2                   In-line  ...                 NaN         NaN   \n",
              "3                   In-line  ...                 NaN         NaN   \n",
              "4                   In-line  ...                 NaN         NaN   \n",
              "...                     ...  ...                 ...         ...   \n",
              "1271                In-line  ...                 NaN         NaN   \n",
              "1272                In-line  ...                 Yes         NaN   \n",
              "1273                In-line  ...                 Yes         NaN   \n",
              "1274                In-line  ...                 NaN         NaN   \n",
              "1275                In-line  ...                 NaN         NaN   \n",
              "\n",
              "     ASR_/_Traction_Control  Cruise_Control USB_Ports  Heads-Up_Display  \\\n",
              "0                       NaN             NaN  1.793103               NaN   \n",
              "1                       NaN             NaN  1.793103               NaN   \n",
              "2                       NaN             NaN  1.793103               NaN   \n",
              "3                       NaN             NaN  1.793103               NaN   \n",
              "4                       NaN             NaN  1.793103               NaN   \n",
              "...                     ...             ...       ...               ...   \n",
              "1271                    NaN             Yes  1.793103               NaN   \n",
              "1272                    NaN             Yes  1.793103               NaN   \n",
              "1273                    NaN             Yes  1.793103               NaN   \n",
              "1274                    NaN             Yes  1.793103               NaN   \n",
              "1275                    Yes             Yes  1.793103               NaN   \n",
              "\n",
              "      Welcome_Lights   Battery Electric_Range  Cylinder  \n",
              "0                NaN  135.5625         195.17       2.0  \n",
              "1                NaN  135.5625         195.17       2.0  \n",
              "2                NaN  135.5625         195.17       2.0  \n",
              "3                NaN  135.5625         195.17       2.0  \n",
              "4                NaN  135.5625         195.17       2.0  \n",
              "...              ...       ...            ...       ...  \n",
              "1271             NaN  135.5625         195.17       4.0  \n",
              "1272             NaN  135.5625         195.17       4.0  \n",
              "1273             NaN  135.5625         195.17       4.0  \n",
              "1274             NaN  135.5625         195.17       4.0  \n",
              "1275             NaN  135.5625         195.17       4.0  \n",
              "\n",
              "[1276 rows x 142 columns]"
            ],
            "text/html": [
              "\n",
              "  <div id=\"df-c10084f2-55f8-4af1-a1d4-0052cbe4e394\">\n",
              "    <div class=\"colab-df-container\">\n",
              "      <div>\n",
              "<style scoped>\n",
              "    .dataframe tbody tr th:only-of-type {\n",
              "        vertical-align: middle;\n",
              "    }\n",
              "\n",
              "    .dataframe tbody tr th {\n",
              "        vertical-align: top;\n",
              "    }\n",
              "\n",
              "    .dataframe thead th {\n",
              "        text-align: right;\n",
              "    }\n",
              "</style>\n",
              "<table border=\"1\" class=\"dataframe\">\n",
              "  <thead>\n",
              "    <tr style=\"text-align: right;\">\n",
              "      <th></th>\n",
              "      <th>Unnamed: 0</th>\n",
              "      <th>Make</th>\n",
              "      <th>Model</th>\n",
              "      <th>Variant</th>\n",
              "      <th>Ex-Showroom_Price</th>\n",
              "      <th>Displacement</th>\n",
              "      <th>Cylinders</th>\n",
              "      <th>Valves_Per_Cylinder</th>\n",
              "      <th>Drivetrain</th>\n",
              "      <th>Cylinder_Configuration</th>\n",
              "      <th>...</th>\n",
              "      <th>Automatic_Headlamps</th>\n",
              "      <th>Engine_Type</th>\n",
              "      <th>ASR_/_Traction_Control</th>\n",
              "      <th>Cruise_Control</th>\n",
              "      <th>USB_Ports</th>\n",
              "      <th>Heads-Up_Display</th>\n",
              "      <th>Welcome_Lights</th>\n",
              "      <th>Battery</th>\n",
              "      <th>Electric_Range</th>\n",
              "      <th>Cylinder</th>\n",
              "    </tr>\n",
              "  </thead>\n",
              "  <tbody>\n",
              "    <tr>\n",
              "      <th>0</th>\n",
              "      <td>0</td>\n",
              "      <td>Tata</td>\n",
              "      <td>Nano Genx</td>\n",
              "      <td>Xt</td>\n",
              "      <td>292667</td>\n",
              "      <td>624.0</td>\n",
              "      <td>2.0</td>\n",
              "      <td>2.0</td>\n",
              "      <td>RWD (Rear Wheel Drive)</td>\n",
              "      <td>In-line</td>\n",
              "      <td>...</td>\n",
              "      <td>NaN</td>\n",
              "      <td>NaN</td>\n",
              "      <td>NaN</td>\n",
              "      <td>NaN</td>\n",
              "      <td>1.793103</td>\n",
              "      <td>NaN</td>\n",
              "      <td>NaN</td>\n",
              "      <td>135.5625</td>\n",
              "      <td>195.17</td>\n",
              "      <td>2.0</td>\n",
              "    </tr>\n",
              "    <tr>\n",
              "      <th>1</th>\n",
              "      <td>1</td>\n",
              "      <td>Tata</td>\n",
              "      <td>Nano Genx</td>\n",
              "      <td>Xe</td>\n",
              "      <td>236447</td>\n",
              "      <td>624.0</td>\n",
              "      <td>2.0</td>\n",
              "      <td>2.0</td>\n",
              "      <td>RWD (Rear Wheel Drive)</td>\n",
              "      <td>In-line</td>\n",
              "      <td>...</td>\n",
              "      <td>NaN</td>\n",
              "      <td>NaN</td>\n",
              "      <td>NaN</td>\n",
              "      <td>NaN</td>\n",
              "      <td>1.793103</td>\n",
              "      <td>NaN</td>\n",
              "      <td>NaN</td>\n",
              "      <td>135.5625</td>\n",
              "      <td>195.17</td>\n",
              "      <td>2.0</td>\n",
              "    </tr>\n",
              "    <tr>\n",
              "      <th>2</th>\n",
              "      <td>2</td>\n",
              "      <td>Tata</td>\n",
              "      <td>Nano Genx</td>\n",
              "      <td>Emax Xm</td>\n",
              "      <td>296661</td>\n",
              "      <td>624.0</td>\n",
              "      <td>2.0</td>\n",
              "      <td>2.0</td>\n",
              "      <td>RWD (Rear Wheel Drive)</td>\n",
              "      <td>In-line</td>\n",
              "      <td>...</td>\n",
              "      <td>NaN</td>\n",
              "      <td>NaN</td>\n",
              "      <td>NaN</td>\n",
              "      <td>NaN</td>\n",
              "      <td>1.793103</td>\n",
              "      <td>NaN</td>\n",
              "      <td>NaN</td>\n",
              "      <td>135.5625</td>\n",
              "      <td>195.17</td>\n",
              "      <td>2.0</td>\n",
              "    </tr>\n",
              "    <tr>\n",
              "      <th>3</th>\n",
              "      <td>3</td>\n",
              "      <td>Tata</td>\n",
              "      <td>Nano Genx</td>\n",
              "      <td>Xta</td>\n",
              "      <td>334768</td>\n",
              "      <td>624.0</td>\n",
              "      <td>2.0</td>\n",
              "      <td>2.0</td>\n",
              "      <td>RWD (Rear Wheel Drive)</td>\n",
              "      <td>In-line</td>\n",
              "      <td>...</td>\n",
              "      <td>NaN</td>\n",
              "      <td>NaN</td>\n",
              "      <td>NaN</td>\n",
              "      <td>NaN</td>\n",
              "      <td>1.793103</td>\n",
              "      <td>NaN</td>\n",
              "      <td>NaN</td>\n",
              "      <td>135.5625</td>\n",
              "      <td>195.17</td>\n",
              "      <td>2.0</td>\n",
              "    </tr>\n",
              "    <tr>\n",
              "      <th>4</th>\n",
              "      <td>4</td>\n",
              "      <td>Tata</td>\n",
              "      <td>Nano Genx</td>\n",
              "      <td>Xm</td>\n",
              "      <td>272223</td>\n",
              "      <td>624.0</td>\n",
              "      <td>2.0</td>\n",
              "      <td>2.0</td>\n",
              "      <td>RWD (Rear Wheel Drive)</td>\n",
              "      <td>In-line</td>\n",
              "      <td>...</td>\n",
              "      <td>NaN</td>\n",
              "      <td>NaN</td>\n",
              "      <td>NaN</td>\n",
              "      <td>NaN</td>\n",
              "      <td>1.793103</td>\n",
              "      <td>NaN</td>\n",
              "      <td>NaN</td>\n",
              "      <td>135.5625</td>\n",
              "      <td>195.17</td>\n",
              "      <td>2.0</td>\n",
              "    </tr>\n",
              "    <tr>\n",
              "      <th>...</th>\n",
              "      <td>...</td>\n",
              "      <td>...</td>\n",
              "      <td>...</td>\n",
              "      <td>...</td>\n",
              "      <td>...</td>\n",
              "      <td>...</td>\n",
              "      <td>...</td>\n",
              "      <td>...</td>\n",
              "      <td>...</td>\n",
              "      <td>...</td>\n",
              "      <td>...</td>\n",
              "      <td>...</td>\n",
              "      <td>...</td>\n",
              "      <td>...</td>\n",
              "      <td>...</td>\n",
              "      <td>...</td>\n",
              "      <td>...</td>\n",
              "      <td>...</td>\n",
              "      <td>...</td>\n",
              "      <td>...</td>\n",
              "      <td>...</td>\n",
              "    </tr>\n",
              "    <tr>\n",
              "      <th>1271</th>\n",
              "      <td>1271</td>\n",
              "      <td>Honda</td>\n",
              "      <td>City</td>\n",
              "      <td>Vx Mt Diesel</td>\n",
              "      <td>1302000</td>\n",
              "      <td>1498.0</td>\n",
              "      <td>4.0</td>\n",
              "      <td>4.0</td>\n",
              "      <td>FWD (Front Wheel Drive)</td>\n",
              "      <td>In-line</td>\n",
              "      <td>...</td>\n",
              "      <td>NaN</td>\n",
              "      <td>NaN</td>\n",
              "      <td>NaN</td>\n",
              "      <td>Yes</td>\n",
              "      <td>1.793103</td>\n",
              "      <td>NaN</td>\n",
              "      <td>NaN</td>\n",
              "      <td>135.5625</td>\n",
              "      <td>195.17</td>\n",
              "      <td>4.0</td>\n",
              "    </tr>\n",
              "    <tr>\n",
              "      <th>1272</th>\n",
              "      <td>1272</td>\n",
              "      <td>Honda</td>\n",
              "      <td>City</td>\n",
              "      <td>Zx Mt Diesel</td>\n",
              "      <td>1421000</td>\n",
              "      <td>1498.0</td>\n",
              "      <td>4.0</td>\n",
              "      <td>4.0</td>\n",
              "      <td>FWD (Front Wheel Drive)</td>\n",
              "      <td>In-line</td>\n",
              "      <td>...</td>\n",
              "      <td>Yes</td>\n",
              "      <td>NaN</td>\n",
              "      <td>NaN</td>\n",
              "      <td>Yes</td>\n",
              "      <td>1.793103</td>\n",
              "      <td>NaN</td>\n",
              "      <td>NaN</td>\n",
              "      <td>135.5625</td>\n",
              "      <td>195.17</td>\n",
              "      <td>4.0</td>\n",
              "    </tr>\n",
              "    <tr>\n",
              "      <th>1273</th>\n",
              "      <td>1273</td>\n",
              "      <td>Honda</td>\n",
              "      <td>City</td>\n",
              "      <td>Zx Cvt Petrol</td>\n",
              "      <td>1431000</td>\n",
              "      <td>1497.0</td>\n",
              "      <td>4.0</td>\n",
              "      <td>4.0</td>\n",
              "      <td>FWD (Front Wheel Drive)</td>\n",
              "      <td>In-line</td>\n",
              "      <td>...</td>\n",
              "      <td>Yes</td>\n",
              "      <td>NaN</td>\n",
              "      <td>NaN</td>\n",
              "      <td>Yes</td>\n",
              "      <td>1.793103</td>\n",
              "      <td>NaN</td>\n",
              "      <td>NaN</td>\n",
              "      <td>135.5625</td>\n",
              "      <td>195.17</td>\n",
              "      <td>4.0</td>\n",
              "    </tr>\n",
              "    <tr>\n",
              "      <th>1274</th>\n",
              "      <td>1274</td>\n",
              "      <td>Honda</td>\n",
              "      <td>City</td>\n",
              "      <td>V Cvt Petrol</td>\n",
              "      <td>1201000</td>\n",
              "      <td>1497.0</td>\n",
              "      <td>4.0</td>\n",
              "      <td>4.0</td>\n",
              "      <td>FWD (Front Wheel Drive)</td>\n",
              "      <td>In-line</td>\n",
              "      <td>...</td>\n",
              "      <td>NaN</td>\n",
              "      <td>NaN</td>\n",
              "      <td>NaN</td>\n",
              "      <td>Yes</td>\n",
              "      <td>1.793103</td>\n",
              "      <td>NaN</td>\n",
              "      <td>NaN</td>\n",
              "      <td>135.5625</td>\n",
              "      <td>195.17</td>\n",
              "      <td>4.0</td>\n",
              "    </tr>\n",
              "    <tr>\n",
              "      <th>1275</th>\n",
              "      <td>1275</td>\n",
              "      <td>Mitsubishi</td>\n",
              "      <td>Montero</td>\n",
              "      <td>3.2 At</td>\n",
              "      <td>6862560</td>\n",
              "      <td>3200.0</td>\n",
              "      <td>4.0</td>\n",
              "      <td>4.0</td>\n",
              "      <td>AWD (All Wheel Drive)</td>\n",
              "      <td>In-line</td>\n",
              "      <td>...</td>\n",
              "      <td>NaN</td>\n",
              "      <td>NaN</td>\n",
              "      <td>Yes</td>\n",
              "      <td>Yes</td>\n",
              "      <td>1.793103</td>\n",
              "      <td>NaN</td>\n",
              "      <td>NaN</td>\n",
              "      <td>135.5625</td>\n",
              "      <td>195.17</td>\n",
              "      <td>4.0</td>\n",
              "    </tr>\n",
              "  </tbody>\n",
              "</table>\n",
              "<p>1276 rows × 142 columns</p>\n",
              "</div>\n",
              "      <button class=\"colab-df-convert\" onclick=\"convertToInteractive('df-c10084f2-55f8-4af1-a1d4-0052cbe4e394')\"\n",
              "              title=\"Convert this dataframe to an interactive table.\"\n",
              "              style=\"display:none;\">\n",
              "        \n",
              "  <svg xmlns=\"http://www.w3.org/2000/svg\" height=\"24px\"viewBox=\"0 0 24 24\"\n",
              "       width=\"24px\">\n",
              "    <path d=\"M0 0h24v24H0V0z\" fill=\"none\"/>\n",
              "    <path d=\"M18.56 5.44l.94 2.06.94-2.06 2.06-.94-2.06-.94-.94-2.06-.94 2.06-2.06.94zm-11 1L8.5 8.5l.94-2.06 2.06-.94-2.06-.94L8.5 2.5l-.94 2.06-2.06.94zm10 10l.94 2.06.94-2.06 2.06-.94-2.06-.94-.94-2.06-.94 2.06-2.06.94z\"/><path d=\"M17.41 7.96l-1.37-1.37c-.4-.4-.92-.59-1.43-.59-.52 0-1.04.2-1.43.59L10.3 9.45l-7.72 7.72c-.78.78-.78 2.05 0 2.83L4 21.41c.39.39.9.59 1.41.59.51 0 1.02-.2 1.41-.59l7.78-7.78 2.81-2.81c.8-.78.8-2.07 0-2.86zM5.41 20L4 18.59l7.72-7.72 1.47 1.35L5.41 20z\"/>\n",
              "  </svg>\n",
              "      </button>\n",
              "      \n",
              "  <style>\n",
              "    .colab-df-container {\n",
              "      display:flex;\n",
              "      flex-wrap:wrap;\n",
              "      gap: 12px;\n",
              "    }\n",
              "\n",
              "    .colab-df-convert {\n",
              "      background-color: #E8F0FE;\n",
              "      border: none;\n",
              "      border-radius: 50%;\n",
              "      cursor: pointer;\n",
              "      display: none;\n",
              "      fill: #1967D2;\n",
              "      height: 32px;\n",
              "      padding: 0 0 0 0;\n",
              "      width: 32px;\n",
              "    }\n",
              "\n",
              "    .colab-df-convert:hover {\n",
              "      background-color: #E2EBFA;\n",
              "      box-shadow: 0px 1px 2px rgba(60, 64, 67, 0.3), 0px 1px 3px 1px rgba(60, 64, 67, 0.15);\n",
              "      fill: #174EA6;\n",
              "    }\n",
              "\n",
              "    [theme=dark] .colab-df-convert {\n",
              "      background-color: #3B4455;\n",
              "      fill: #D2E3FC;\n",
              "    }\n",
              "\n",
              "    [theme=dark] .colab-df-convert:hover {\n",
              "      background-color: #434B5C;\n",
              "      box-shadow: 0px 1px 3px 1px rgba(0, 0, 0, 0.15);\n",
              "      filter: drop-shadow(0px 1px 2px rgba(0, 0, 0, 0.3));\n",
              "      fill: #FFFFFF;\n",
              "    }\n",
              "  </style>\n",
              "\n",
              "      <script>\n",
              "        const buttonEl =\n",
              "          document.querySelector('#df-c10084f2-55f8-4af1-a1d4-0052cbe4e394 button.colab-df-convert');\n",
              "        buttonEl.style.display =\n",
              "          google.colab.kernel.accessAllowed ? 'block' : 'none';\n",
              "\n",
              "        async function convertToInteractive(key) {\n",
              "          const element = document.querySelector('#df-c10084f2-55f8-4af1-a1d4-0052cbe4e394');\n",
              "          const dataTable =\n",
              "            await google.colab.kernel.invokeFunction('convertToInteractive',\n",
              "                                                     [key], {});\n",
              "          if (!dataTable) return;\n",
              "\n",
              "          const docLinkHtml = 'Like what you see? Visit the ' +\n",
              "            '<a target=\"_blank\" href=https://colab.research.google.com/notebooks/data_table.ipynb>data table notebook</a>'\n",
              "            + ' to learn more about interactive tables.';\n",
              "          element.innerHTML = '';\n",
              "          dataTable['output_type'] = 'display_data';\n",
              "          await google.colab.output.renderOutput(dataTable, element);\n",
              "          const docLink = document.createElement('div');\n",
              "          docLink.innerHTML = docLinkHtml;\n",
              "          element.appendChild(docLink);\n",
              "        }\n",
              "      </script>\n",
              "    </div>\n",
              "  </div>\n",
              "  "
            ]
          },
          "metadata": {},
          "execution_count": 34
        }
      ]
    },
    {
      "cell_type": "markdown",
      "source": [
        "Prediction of Prices using the following parameters:\n",
        "1. Displacement\n",
        "2. Cylinders\n",
        "3. Valves per Cylinder\n",
        "4. Fuel tank Capacity\n",
        "5. City Mileage\n",
        "6. Highway Mileage\n",
        "7. Kerb Weight\n",
        "8. Gears\n",
        "9. Front Brakes\n",
        "10. Minimum Turning Radius\n",
        "11. Power\n",
        "12. Torque\n",
        "13. Seating Capacity\n",
        "14. Boot Space\n",
        "15. Airbags\n",
        "16. Volume of the car :- Height x length x breadth (To reduce features)\n",
        "17. Wheelbase\n",
        "18. Antilock Braking System (ABS)\n",
        "19. Gross Vehicle weight\n",
        "20. Ground Clearance\n",
        "\n",
        "This is done as all the parameters are not needed to be considered because:\n",
        "1. They may be dependent on other features i.e. linear dependence must be removed in linear regression\n",
        "2. The feature may not be very important for the prediction i.e. might not affect the to be predicted value\n",
        "like the presence of odometer and speedometer need not be considered as these does not affect car prices very much and just like them I have removed many dormant features"
      ],
      "metadata": {
        "id": "8T3YjiSDhFBg"
      }
    },
    {
      "cell_type": "code",
      "source": [
        "model_data = cars[['Displacement','Cylinders','Valves_Per_Cylinder','Fuel_Tank_Capacity','City_Mileage','Highway_Mileage','Kerb_Weight','Gears','Minimum_Turning_Radius'\n",
        "                  ,'Power','Torque','Seating_Capacity','Boot_Space','Number_of_Airbags','Gross_Vehicle_Weight','Ground_Clearance']]\n",
        "model_data['Volume'] = (cars['Height']*cars['Width']*cars['Length'])/1000000000\n",
        "price_data = cars['Ex-Showroom_Price']"
      ],
      "metadata": {
        "id": "xaYtoC6Asr24",
        "colab": {
          "base_uri": "https://localhost:8080/"
        },
        "outputId": "5734778e-a7f4-4baa-8508-32cbae85531e"
      },
      "execution_count": 35,
      "outputs": [
        {
          "output_type": "stream",
          "name": "stderr",
          "text": [
            "/usr/local/lib/python3.7/dist-packages/ipykernel_launcher.py:3: SettingWithCopyWarning: \n",
            "A value is trying to be set on a copy of a slice from a DataFrame.\n",
            "Try using .loc[row_indexer,col_indexer] = value instead\n",
            "\n",
            "See the caveats in the documentation: https://pandas.pydata.org/pandas-docs/stable/user_guide/indexing.html#returning-a-view-versus-a-copy\n",
            "  This is separate from the ipykernel package so we can avoid doing imports until\n"
          ]
        }
      ]
    },
    {
      "cell_type": "code",
      "source": [
        "model_data['Cylinders'] = model_data['Cylinders'].fillna(model_data['Cylinders'].mode()[0])\n",
        "model_data['Gears'] = model_data['Gears'].fillna(model_data['Gears'].mode()[0])\n",
        "model_data['Number_of_Airbags'] = model_data['Number_of_Airbags'].fillna(0)"
      ],
      "metadata": {
        "id": "269qoGbAwQ2p",
        "colab": {
          "base_uri": "https://localhost:8080/"
        },
        "outputId": "e5a30acb-e1a9-46cb-97c7-b72983a0d109"
      },
      "execution_count": 36,
      "outputs": [
        {
          "output_type": "stream",
          "name": "stderr",
          "text": [
            "/usr/local/lib/python3.7/dist-packages/ipykernel_launcher.py:1: SettingWithCopyWarning: \n",
            "A value is trying to be set on a copy of a slice from a DataFrame.\n",
            "Try using .loc[row_indexer,col_indexer] = value instead\n",
            "\n",
            "See the caveats in the documentation: https://pandas.pydata.org/pandas-docs/stable/user_guide/indexing.html#returning-a-view-versus-a-copy\n",
            "  \"\"\"Entry point for launching an IPython kernel.\n",
            "/usr/local/lib/python3.7/dist-packages/ipykernel_launcher.py:2: SettingWithCopyWarning: \n",
            "A value is trying to be set on a copy of a slice from a DataFrame.\n",
            "Try using .loc[row_indexer,col_indexer] = value instead\n",
            "\n",
            "See the caveats in the documentation: https://pandas.pydata.org/pandas-docs/stable/user_guide/indexing.html#returning-a-view-versus-a-copy\n",
            "  \n",
            "/usr/local/lib/python3.7/dist-packages/ipykernel_launcher.py:3: SettingWithCopyWarning: \n",
            "A value is trying to be set on a copy of a slice from a DataFrame.\n",
            "Try using .loc[row_indexer,col_indexer] = value instead\n",
            "\n",
            "See the caveats in the documentation: https://pandas.pydata.org/pandas-docs/stable/user_guide/indexing.html#returning-a-view-versus-a-copy\n",
            "  This is separate from the ipykernel package so we can avoid doing imports until\n"
          ]
        }
      ]
    },
    {
      "cell_type": "markdown",
      "source": [
        "Here in the feature power we stripped the string till only the power only to make the data more meaning full"
      ],
      "metadata": {
        "id": "S81TOmwFrN9f"
      }
    },
    {
      "cell_type": "code",
      "source": [
        "i = 0\n",
        "for dat in model_data['Power']:\n",
        "  model_data['Power'][i] = dat.split('P',1)[0]\n",
        "  i += 1\n",
        "model_data['Power'][1275] = 202\n",
        "model_data['Power'] = pd.to_numeric(model_data['Power'],errors='coerce')\n",
        "model_data['Power'].fillna(model_data['Power'].mean(),inplace = True)"
      ],
      "metadata": {
        "id": "6wx1qf2DrHXu",
        "colab": {
          "base_uri": "https://localhost:8080/"
        },
        "outputId": "aa85a140-e51e-49be-9da3-76a9c3fb6a2b"
      },
      "execution_count": 37,
      "outputs": [
        {
          "output_type": "stream",
          "name": "stderr",
          "text": [
            "/usr/local/lib/python3.7/dist-packages/ipykernel_launcher.py:3: SettingWithCopyWarning: \n",
            "A value is trying to be set on a copy of a slice from a DataFrame\n",
            "\n",
            "See the caveats in the documentation: https://pandas.pydata.org/pandas-docs/stable/user_guide/indexing.html#returning-a-view-versus-a-copy\n",
            "  This is separate from the ipykernel package so we can avoid doing imports until\n",
            "/usr/local/lib/python3.7/dist-packages/ipykernel_launcher.py:5: SettingWithCopyWarning: \n",
            "A value is trying to be set on a copy of a slice from a DataFrame\n",
            "\n",
            "See the caveats in the documentation: https://pandas.pydata.org/pandas-docs/stable/user_guide/indexing.html#returning-a-view-versus-a-copy\n",
            "  \"\"\"\n",
            "/usr/local/lib/python3.7/dist-packages/ipykernel_launcher.py:6: SettingWithCopyWarning: \n",
            "A value is trying to be set on a copy of a slice from a DataFrame.\n",
            "Try using .loc[row_indexer,col_indexer] = value instead\n",
            "\n",
            "See the caveats in the documentation: https://pandas.pydata.org/pandas-docs/stable/user_guide/indexing.html#returning-a-view-versus-a-copy\n",
            "  \n",
            "/usr/local/lib/python3.7/dist-packages/pandas/core/generic.py:6392: SettingWithCopyWarning: \n",
            "A value is trying to be set on a copy of a slice from a DataFrame\n",
            "\n",
            "See the caveats in the documentation: https://pandas.pydata.org/pandas-docs/stable/user_guide/indexing.html#returning-a-view-versus-a-copy\n",
            "  return self._update_inplace(result)\n"
          ]
        }
      ]
    },
    {
      "cell_type": "markdown",
      "source": [
        "Now in torque we follow similar procedure as we did in power but here due to some NULL values in the column we need to use excetion handling in python, after following the procedure we now need to fill the NULL values and we do it by the mean"
      ],
      "metadata": {
        "id": "p9l6yoVoxxED"
      }
    },
    {
      "cell_type": "code",
      "source": [
        "j = 0\n",
        "for dat in model_data['Torque']:\n",
        " try:\n",
        "   model_data['Torque'][j] = dat.split('N',1)[0]\n",
        " except:\n",
        "   continue\n",
        " j += 1\n",
        " model_data['Torque'][1274] = 145\n",
        " model_data['Torque'][1275] = 441\n",
        " model_data['Torque'] = pd.to_numeric(model_data['Torque'],errors='coerce')\n",
        " model_data['Torque'].fillna(model_data['Torque'].mean(),inplace = True)"
      ],
      "metadata": {
        "id": "M0y8sn5avegw",
        "colab": {
          "base_uri": "https://localhost:8080/"
        },
        "outputId": "0c147773-3450-4f3e-cbc8-4767b170e630"
      },
      "execution_count": 38,
      "outputs": [
        {
          "output_type": "stream",
          "name": "stderr",
          "text": [
            "/usr/local/lib/python3.7/dist-packages/ipykernel_launcher.py:4: SettingWithCopyWarning: \n",
            "A value is trying to be set on a copy of a slice from a DataFrame\n",
            "\n",
            "See the caveats in the documentation: https://pandas.pydata.org/pandas-docs/stable/user_guide/indexing.html#returning-a-view-versus-a-copy\n",
            "  after removing the cwd from sys.path.\n",
            "/usr/local/lib/python3.7/dist-packages/ipykernel_launcher.py:8: SettingWithCopyWarning: \n",
            "A value is trying to be set on a copy of a slice from a DataFrame\n",
            "\n",
            "See the caveats in the documentation: https://pandas.pydata.org/pandas-docs/stable/user_guide/indexing.html#returning-a-view-versus-a-copy\n",
            "  \n",
            "/usr/local/lib/python3.7/dist-packages/ipykernel_launcher.py:9: SettingWithCopyWarning: \n",
            "A value is trying to be set on a copy of a slice from a DataFrame\n",
            "\n",
            "See the caveats in the documentation: https://pandas.pydata.org/pandas-docs/stable/user_guide/indexing.html#returning-a-view-versus-a-copy\n",
            "  if __name__ == '__main__':\n",
            "/usr/local/lib/python3.7/dist-packages/ipykernel_launcher.py:10: SettingWithCopyWarning: \n",
            "A value is trying to be set on a copy of a slice from a DataFrame.\n",
            "Try using .loc[row_indexer,col_indexer] = value instead\n",
            "\n",
            "See the caveats in the documentation: https://pandas.pydata.org/pandas-docs/stable/user_guide/indexing.html#returning-a-view-versus-a-copy\n",
            "  # Remove the CWD from sys.path while we load stuff.\n",
            "/usr/local/lib/python3.7/dist-packages/pandas/core/generic.py:6392: SettingWithCopyWarning: \n",
            "A value is trying to be set on a copy of a slice from a DataFrame\n",
            "\n",
            "See the caveats in the documentation: https://pandas.pydata.org/pandas-docs/stable/user_guide/indexing.html#returning-a-view-versus-a-copy\n",
            "  return self._update_inplace(result)\n",
            "/usr/local/lib/python3.7/dist-packages/pandas/core/indexing.py:1732: SettingWithCopyWarning: \n",
            "A value is trying to be set on a copy of a slice from a DataFrame\n",
            "\n",
            "See the caveats in the documentation: https://pandas.pydata.org/pandas-docs/stable/user_guide/indexing.html#returning-a-view-versus-a-copy\n",
            "  self._setitem_single_block(indexer, value, name)\n",
            "/usr/local/lib/python3.7/dist-packages/pandas/core/series.py:1056: SettingWithCopyWarning: \n",
            "A value is trying to be set on a copy of a slice from a DataFrame\n",
            "\n",
            "See the caveats in the documentation: https://pandas.pydata.org/pandas-docs/stable/user_guide/indexing.html#returning-a-view-versus-a-copy\n",
            "  cacher_needs_updating = self._check_is_chained_assignment_possible()\n"
          ]
        }
      ]
    },
    {
      "cell_type": "code",
      "source": [
        "model_data"
      ],
      "metadata": {
        "colab": {
          "base_uri": "https://localhost:8080/",
          "height": 488
        },
        "id": "xJPjeZv-XXAN",
        "outputId": "080ec8f4-f77b-4b28-f5e8-e4300443045d"
      },
      "execution_count": 39,
      "outputs": [
        {
          "output_type": "execute_result",
          "data": {
            "text/plain": [
              "      Displacement  Cylinders  Valves_Per_Cylinder  Fuel_Tank_Capacity  \\\n",
              "0            624.0        2.0                  2.0                24.0   \n",
              "1            624.0        2.0                  2.0                24.0   \n",
              "2            624.0        2.0                  2.0                15.0   \n",
              "3            624.0        2.0                  2.0                24.0   \n",
              "4            624.0        2.0                  2.0                24.0   \n",
              "...            ...        ...                  ...                 ...   \n",
              "1271        1498.0        4.0                  4.0                40.0   \n",
              "1272        1498.0        4.0                  4.0                40.0   \n",
              "1273        1497.0        4.0                  4.0                40.0   \n",
              "1274        1497.0        4.0                  4.0                40.0   \n",
              "1275        3200.0        4.0                  4.0                88.0   \n",
              "\n",
              "      City_Mileage  Highway_Mileage  Kerb_Weight  Gears  \\\n",
              "0         53.82717        16.901326        660.0    4.0   \n",
              "1         53.82717        16.901326        725.0    4.0   \n",
              "2         53.82717        16.901326        710.0    4.0   \n",
              "3         53.82717        16.901326        725.0    5.0   \n",
              "4         53.82717        16.901326        725.0    4.0   \n",
              "...            ...              ...          ...    ...   \n",
              "1271      22.60000        25.100000       1170.0    6.0   \n",
              "1272      22.60000        25.100000       1175.0    6.0   \n",
              "1273      18.00000        18.000000       1107.0    5.0   \n",
              "1274      14.30000        16.400000       1080.0    5.0   \n",
              "1275       8.25000        11.560000       2335.0    5.0   \n",
              "\n",
              "      Minimum_Turning_Radius  Power  Torque  Seating_Capacity  Boot_Space  \\\n",
              "0                        4.0   38.0   51.00               4.0       110.0   \n",
              "1                        4.0   38.0   51.00               4.0       110.0   \n",
              "2                        4.0   38.0   51.00               4.0       110.0   \n",
              "3                        4.0   38.0   51.00               4.0        94.0   \n",
              "4                        4.0   38.0   51.00               4.0       110.0   \n",
              "...                      ...    ...     ...               ...         ...   \n",
              "1271                     5.3  100.0  145.00               5.0       510.0   \n",
              "1272                     5.3  100.0  164.85               5.0       510.0   \n",
              "1273                     5.3  119.0  164.85               5.0       510.0   \n",
              "1274                     5.3  119.0  145.00               5.0       510.0   \n",
              "1275                     5.7  202.0  441.00               7.0      1050.0   \n",
              "\n",
              "      Number_of_Airbags  Gross_Vehicle_Weight  Ground_Clearance     Volume  \n",
              "0                   0.0           1905.868925             180.0   9.147124  \n",
              "1                   0.0           1905.868925             180.0   9.147124  \n",
              "2                   0.0           1905.868925             180.0   9.147124  \n",
              "3                   0.0           1905.868925             180.0   9.147124  \n",
              "4                   0.0           1905.868925             180.0   9.147124  \n",
              "...                 ...                   ...               ...        ...  \n",
              "1271                2.0           1545.000000             165.0  11.251071  \n",
              "1272                6.0           1550.000000             165.0  11.251071  \n",
              "1273                6.0           1482.000000             165.0  11.251071  \n",
              "1274                2.0           1455.000000             165.0  11.251071  \n",
              "1275                6.0           3110.000000             235.0  17.456250  \n",
              "\n",
              "[1276 rows x 17 columns]"
            ],
            "text/html": [
              "\n",
              "  <div id=\"df-91db3ac5-0713-444a-9abd-78ee9e845bae\">\n",
              "    <div class=\"colab-df-container\">\n",
              "      <div>\n",
              "<style scoped>\n",
              "    .dataframe tbody tr th:only-of-type {\n",
              "        vertical-align: middle;\n",
              "    }\n",
              "\n",
              "    .dataframe tbody tr th {\n",
              "        vertical-align: top;\n",
              "    }\n",
              "\n",
              "    .dataframe thead th {\n",
              "        text-align: right;\n",
              "    }\n",
              "</style>\n",
              "<table border=\"1\" class=\"dataframe\">\n",
              "  <thead>\n",
              "    <tr style=\"text-align: right;\">\n",
              "      <th></th>\n",
              "      <th>Displacement</th>\n",
              "      <th>Cylinders</th>\n",
              "      <th>Valves_Per_Cylinder</th>\n",
              "      <th>Fuel_Tank_Capacity</th>\n",
              "      <th>City_Mileage</th>\n",
              "      <th>Highway_Mileage</th>\n",
              "      <th>Kerb_Weight</th>\n",
              "      <th>Gears</th>\n",
              "      <th>Minimum_Turning_Radius</th>\n",
              "      <th>Power</th>\n",
              "      <th>Torque</th>\n",
              "      <th>Seating_Capacity</th>\n",
              "      <th>Boot_Space</th>\n",
              "      <th>Number_of_Airbags</th>\n",
              "      <th>Gross_Vehicle_Weight</th>\n",
              "      <th>Ground_Clearance</th>\n",
              "      <th>Volume</th>\n",
              "    </tr>\n",
              "  </thead>\n",
              "  <tbody>\n",
              "    <tr>\n",
              "      <th>0</th>\n",
              "      <td>624.0</td>\n",
              "      <td>2.0</td>\n",
              "      <td>2.0</td>\n",
              "      <td>24.0</td>\n",
              "      <td>53.82717</td>\n",
              "      <td>16.901326</td>\n",
              "      <td>660.0</td>\n",
              "      <td>4.0</td>\n",
              "      <td>4.0</td>\n",
              "      <td>38.0</td>\n",
              "      <td>51.00</td>\n",
              "      <td>4.0</td>\n",
              "      <td>110.0</td>\n",
              "      <td>0.0</td>\n",
              "      <td>1905.868925</td>\n",
              "      <td>180.0</td>\n",
              "      <td>9.147124</td>\n",
              "    </tr>\n",
              "    <tr>\n",
              "      <th>1</th>\n",
              "      <td>624.0</td>\n",
              "      <td>2.0</td>\n",
              "      <td>2.0</td>\n",
              "      <td>24.0</td>\n",
              "      <td>53.82717</td>\n",
              "      <td>16.901326</td>\n",
              "      <td>725.0</td>\n",
              "      <td>4.0</td>\n",
              "      <td>4.0</td>\n",
              "      <td>38.0</td>\n",
              "      <td>51.00</td>\n",
              "      <td>4.0</td>\n",
              "      <td>110.0</td>\n",
              "      <td>0.0</td>\n",
              "      <td>1905.868925</td>\n",
              "      <td>180.0</td>\n",
              "      <td>9.147124</td>\n",
              "    </tr>\n",
              "    <tr>\n",
              "      <th>2</th>\n",
              "      <td>624.0</td>\n",
              "      <td>2.0</td>\n",
              "      <td>2.0</td>\n",
              "      <td>15.0</td>\n",
              "      <td>53.82717</td>\n",
              "      <td>16.901326</td>\n",
              "      <td>710.0</td>\n",
              "      <td>4.0</td>\n",
              "      <td>4.0</td>\n",
              "      <td>38.0</td>\n",
              "      <td>51.00</td>\n",
              "      <td>4.0</td>\n",
              "      <td>110.0</td>\n",
              "      <td>0.0</td>\n",
              "      <td>1905.868925</td>\n",
              "      <td>180.0</td>\n",
              "      <td>9.147124</td>\n",
              "    </tr>\n",
              "    <tr>\n",
              "      <th>3</th>\n",
              "      <td>624.0</td>\n",
              "      <td>2.0</td>\n",
              "      <td>2.0</td>\n",
              "      <td>24.0</td>\n",
              "      <td>53.82717</td>\n",
              "      <td>16.901326</td>\n",
              "      <td>725.0</td>\n",
              "      <td>5.0</td>\n",
              "      <td>4.0</td>\n",
              "      <td>38.0</td>\n",
              "      <td>51.00</td>\n",
              "      <td>4.0</td>\n",
              "      <td>94.0</td>\n",
              "      <td>0.0</td>\n",
              "      <td>1905.868925</td>\n",
              "      <td>180.0</td>\n",
              "      <td>9.147124</td>\n",
              "    </tr>\n",
              "    <tr>\n",
              "      <th>4</th>\n",
              "      <td>624.0</td>\n",
              "      <td>2.0</td>\n",
              "      <td>2.0</td>\n",
              "      <td>24.0</td>\n",
              "      <td>53.82717</td>\n",
              "      <td>16.901326</td>\n",
              "      <td>725.0</td>\n",
              "      <td>4.0</td>\n",
              "      <td>4.0</td>\n",
              "      <td>38.0</td>\n",
              "      <td>51.00</td>\n",
              "      <td>4.0</td>\n",
              "      <td>110.0</td>\n",
              "      <td>0.0</td>\n",
              "      <td>1905.868925</td>\n",
              "      <td>180.0</td>\n",
              "      <td>9.147124</td>\n",
              "    </tr>\n",
              "    <tr>\n",
              "      <th>...</th>\n",
              "      <td>...</td>\n",
              "      <td>...</td>\n",
              "      <td>...</td>\n",
              "      <td>...</td>\n",
              "      <td>...</td>\n",
              "      <td>...</td>\n",
              "      <td>...</td>\n",
              "      <td>...</td>\n",
              "      <td>...</td>\n",
              "      <td>...</td>\n",
              "      <td>...</td>\n",
              "      <td>...</td>\n",
              "      <td>...</td>\n",
              "      <td>...</td>\n",
              "      <td>...</td>\n",
              "      <td>...</td>\n",
              "      <td>...</td>\n",
              "    </tr>\n",
              "    <tr>\n",
              "      <th>1271</th>\n",
              "      <td>1498.0</td>\n",
              "      <td>4.0</td>\n",
              "      <td>4.0</td>\n",
              "      <td>40.0</td>\n",
              "      <td>22.60000</td>\n",
              "      <td>25.100000</td>\n",
              "      <td>1170.0</td>\n",
              "      <td>6.0</td>\n",
              "      <td>5.3</td>\n",
              "      <td>100.0</td>\n",
              "      <td>145.00</td>\n",
              "      <td>5.0</td>\n",
              "      <td>510.0</td>\n",
              "      <td>2.0</td>\n",
              "      <td>1545.000000</td>\n",
              "      <td>165.0</td>\n",
              "      <td>11.251071</td>\n",
              "    </tr>\n",
              "    <tr>\n",
              "      <th>1272</th>\n",
              "      <td>1498.0</td>\n",
              "      <td>4.0</td>\n",
              "      <td>4.0</td>\n",
              "      <td>40.0</td>\n",
              "      <td>22.60000</td>\n",
              "      <td>25.100000</td>\n",
              "      <td>1175.0</td>\n",
              "      <td>6.0</td>\n",
              "      <td>5.3</td>\n",
              "      <td>100.0</td>\n",
              "      <td>164.85</td>\n",
              "      <td>5.0</td>\n",
              "      <td>510.0</td>\n",
              "      <td>6.0</td>\n",
              "      <td>1550.000000</td>\n",
              "      <td>165.0</td>\n",
              "      <td>11.251071</td>\n",
              "    </tr>\n",
              "    <tr>\n",
              "      <th>1273</th>\n",
              "      <td>1497.0</td>\n",
              "      <td>4.0</td>\n",
              "      <td>4.0</td>\n",
              "      <td>40.0</td>\n",
              "      <td>18.00000</td>\n",
              "      <td>18.000000</td>\n",
              "      <td>1107.0</td>\n",
              "      <td>5.0</td>\n",
              "      <td>5.3</td>\n",
              "      <td>119.0</td>\n",
              "      <td>164.85</td>\n",
              "      <td>5.0</td>\n",
              "      <td>510.0</td>\n",
              "      <td>6.0</td>\n",
              "      <td>1482.000000</td>\n",
              "      <td>165.0</td>\n",
              "      <td>11.251071</td>\n",
              "    </tr>\n",
              "    <tr>\n",
              "      <th>1274</th>\n",
              "      <td>1497.0</td>\n",
              "      <td>4.0</td>\n",
              "      <td>4.0</td>\n",
              "      <td>40.0</td>\n",
              "      <td>14.30000</td>\n",
              "      <td>16.400000</td>\n",
              "      <td>1080.0</td>\n",
              "      <td>5.0</td>\n",
              "      <td>5.3</td>\n",
              "      <td>119.0</td>\n",
              "      <td>145.00</td>\n",
              "      <td>5.0</td>\n",
              "      <td>510.0</td>\n",
              "      <td>2.0</td>\n",
              "      <td>1455.000000</td>\n",
              "      <td>165.0</td>\n",
              "      <td>11.251071</td>\n",
              "    </tr>\n",
              "    <tr>\n",
              "      <th>1275</th>\n",
              "      <td>3200.0</td>\n",
              "      <td>4.0</td>\n",
              "      <td>4.0</td>\n",
              "      <td>88.0</td>\n",
              "      <td>8.25000</td>\n",
              "      <td>11.560000</td>\n",
              "      <td>2335.0</td>\n",
              "      <td>5.0</td>\n",
              "      <td>5.7</td>\n",
              "      <td>202.0</td>\n",
              "      <td>441.00</td>\n",
              "      <td>7.0</td>\n",
              "      <td>1050.0</td>\n",
              "      <td>6.0</td>\n",
              "      <td>3110.000000</td>\n",
              "      <td>235.0</td>\n",
              "      <td>17.456250</td>\n",
              "    </tr>\n",
              "  </tbody>\n",
              "</table>\n",
              "<p>1276 rows × 17 columns</p>\n",
              "</div>\n",
              "      <button class=\"colab-df-convert\" onclick=\"convertToInteractive('df-91db3ac5-0713-444a-9abd-78ee9e845bae')\"\n",
              "              title=\"Convert this dataframe to an interactive table.\"\n",
              "              style=\"display:none;\">\n",
              "        \n",
              "  <svg xmlns=\"http://www.w3.org/2000/svg\" height=\"24px\"viewBox=\"0 0 24 24\"\n",
              "       width=\"24px\">\n",
              "    <path d=\"M0 0h24v24H0V0z\" fill=\"none\"/>\n",
              "    <path d=\"M18.56 5.44l.94 2.06.94-2.06 2.06-.94-2.06-.94-.94-2.06-.94 2.06-2.06.94zm-11 1L8.5 8.5l.94-2.06 2.06-.94-2.06-.94L8.5 2.5l-.94 2.06-2.06.94zm10 10l.94 2.06.94-2.06 2.06-.94-2.06-.94-.94-2.06-.94 2.06-2.06.94z\"/><path d=\"M17.41 7.96l-1.37-1.37c-.4-.4-.92-.59-1.43-.59-.52 0-1.04.2-1.43.59L10.3 9.45l-7.72 7.72c-.78.78-.78 2.05 0 2.83L4 21.41c.39.39.9.59 1.41.59.51 0 1.02-.2 1.41-.59l7.78-7.78 2.81-2.81c.8-.78.8-2.07 0-2.86zM5.41 20L4 18.59l7.72-7.72 1.47 1.35L5.41 20z\"/>\n",
              "  </svg>\n",
              "      </button>\n",
              "      \n",
              "  <style>\n",
              "    .colab-df-container {\n",
              "      display:flex;\n",
              "      flex-wrap:wrap;\n",
              "      gap: 12px;\n",
              "    }\n",
              "\n",
              "    .colab-df-convert {\n",
              "      background-color: #E8F0FE;\n",
              "      border: none;\n",
              "      border-radius: 50%;\n",
              "      cursor: pointer;\n",
              "      display: none;\n",
              "      fill: #1967D2;\n",
              "      height: 32px;\n",
              "      padding: 0 0 0 0;\n",
              "      width: 32px;\n",
              "    }\n",
              "\n",
              "    .colab-df-convert:hover {\n",
              "      background-color: #E2EBFA;\n",
              "      box-shadow: 0px 1px 2px rgba(60, 64, 67, 0.3), 0px 1px 3px 1px rgba(60, 64, 67, 0.15);\n",
              "      fill: #174EA6;\n",
              "    }\n",
              "\n",
              "    [theme=dark] .colab-df-convert {\n",
              "      background-color: #3B4455;\n",
              "      fill: #D2E3FC;\n",
              "    }\n",
              "\n",
              "    [theme=dark] .colab-df-convert:hover {\n",
              "      background-color: #434B5C;\n",
              "      box-shadow: 0px 1px 3px 1px rgba(0, 0, 0, 0.15);\n",
              "      filter: drop-shadow(0px 1px 2px rgba(0, 0, 0, 0.3));\n",
              "      fill: #FFFFFF;\n",
              "    }\n",
              "  </style>\n",
              "\n",
              "      <script>\n",
              "        const buttonEl =\n",
              "          document.querySelector('#df-91db3ac5-0713-444a-9abd-78ee9e845bae button.colab-df-convert');\n",
              "        buttonEl.style.display =\n",
              "          google.colab.kernel.accessAllowed ? 'block' : 'none';\n",
              "\n",
              "        async function convertToInteractive(key) {\n",
              "          const element = document.querySelector('#df-91db3ac5-0713-444a-9abd-78ee9e845bae');\n",
              "          const dataTable =\n",
              "            await google.colab.kernel.invokeFunction('convertToInteractive',\n",
              "                                                     [key], {});\n",
              "          if (!dataTable) return;\n",
              "\n",
              "          const docLinkHtml = 'Like what you see? Visit the ' +\n",
              "            '<a target=\"_blank\" href=https://colab.research.google.com/notebooks/data_table.ipynb>data table notebook</a>'\n",
              "            + ' to learn more about interactive tables.';\n",
              "          element.innerHTML = '';\n",
              "          dataTable['output_type'] = 'display_data';\n",
              "          await google.colab.output.renderOutput(dataTable, element);\n",
              "          const docLink = document.createElement('div');\n",
              "          docLink.innerHTML = docLinkHtml;\n",
              "          element.appendChild(docLink);\n",
              "        }\n",
              "      </script>\n",
              "    </div>\n",
              "  </div>\n",
              "  "
            ]
          },
          "metadata": {},
          "execution_count": 39
        }
      ]
    },
    {
      "cell_type": "code",
      "source": [
        "for data in model_data:\n",
        "  if(model_data[data].isna().sum() != 0):\n",
        "    print(data,\"\\n\")"
      ],
      "metadata": {
        "id": "ruD2w9FA4Bz7"
      },
      "execution_count": 40,
      "outputs": []
    },
    {
      "cell_type": "markdown",
      "source": [
        "Till here we have cleaned our data according to our needs and the data is ready to be fed to the models for their training and prediction puroposes\n",
        "\n",
        "Models that will be trained:\n",
        "1. Linear Regression\n",
        "2. Polynomial Regression\n",
        "3. Support Vector Regression\n",
        "4. Decision Trees\n",
        "5. Random Forest Regression"
      ],
      "metadata": {
        "id": "HU4Xegxayjwe"
      }
    },
    {
      "cell_type": "code",
      "source": [
        "from sklearn.linear_model import LinearRegression\n",
        "from sklearn.model_selection import train_test_split\n",
        "from sklearn.metrics import r2_score\n",
        "from sklearn.metrics import mean_squared_error\n",
        "from sklearn.preprocessing import PolynomialFeatures\n",
        "from sklearn.svm import SVR\n",
        "from sklearn.ensemble import RandomForestRegressor\n",
        "from sklearn.tree import DecisionTreeRegressor\n",
        "x = np.array(model_data)\n",
        "y = np.array(price_data)\n",
        "x_train, x_test, y_train, y_test = train_test_split(x,y,test_size = 0.25,random_state = 0)"
      ],
      "metadata": {
        "id": "85DKPTQAApd0"
      },
      "execution_count": 41,
      "outputs": []
    },
    {
      "cell_type": "markdown",
      "source": [
        "***Linear Regression***"
      ],
      "metadata": {
        "id": "H5bC7CCDAWUU"
      }
    },
    {
      "cell_type": "code",
      "source": [
        "lin_reg = LinearRegression()\n",
        "lin_reg.fit(x_train,y_train)"
      ],
      "metadata": {
        "colab": {
          "base_uri": "https://localhost:8080/"
        },
        "id": "jPbImB_zAj1F",
        "outputId": "44144550-38a7-4abd-b8c6-151c3078a986"
      },
      "execution_count": 42,
      "outputs": [
        {
          "output_type": "execute_result",
          "data": {
            "text/plain": [
              "LinearRegression()"
            ]
          },
          "metadata": {},
          "execution_count": 42
        }
      ]
    },
    {
      "cell_type": "code",
      "source": [
        "y_predict_LR = lin_reg.predict(x_test)"
      ],
      "metadata": {
        "id": "EbijftO0z4RS"
      },
      "execution_count": 43,
      "outputs": []
    },
    {
      "cell_type": "code",
      "source": [
        "score = r2_score(y_test,y_predict_LR)\n",
        "print(\"R2 Score is: \",score)"
      ],
      "metadata": {
        "colab": {
          "base_uri": "https://localhost:8080/"
        },
        "id": "1mTlsPIH11Yp",
        "outputId": "29d5ccad-6222-4d92-8c1b-515b249b2401"
      },
      "execution_count": 44,
      "outputs": [
        {
          "output_type": "stream",
          "name": "stdout",
          "text": [
            "R2 Score is:  0.7344494492202284\n"
          ]
        }
      ]
    },
    {
      "cell_type": "code",
      "source": [
        "num_list = []\n",
        "i = 0\n",
        "for dat in y_test:\n",
        "  num_list.append(i)\n",
        "  i += 1\n",
        "plt.scatter(num_list,y_test,color = 'r')\n",
        "plt.xlabel('Testing Data')\n",
        "num_list.clear()\n",
        "i = 0\n",
        "for dat in y_predict_LR:\n",
        "  num_list.append(i)\n",
        "  i += 1\n",
        "plt.scatter(num_list,y_predict_LR,color = 'g')\n",
        "plt.ylabel('Predicted Data')\n",
        "plt.title('Linear Regression Model results visualization')\n",
        "plt.show()"
      ],
      "metadata": {
        "colab": {
          "base_uri": "https://localhost:8080/",
          "height": 295
        },
        "id": "XQOLkta8RYWk",
        "outputId": "25cdb453-b01f-414c-de21-a0d3d5175e71"
      },
      "execution_count": 45,
      "outputs": [
        {
          "output_type": "display_data",
          "data": {
            "text/plain": [
              "<Figure size 432x288 with 1 Axes>"
            ],
            "image/png": "[encoded data removed]"
          },
          "metadata": {
            "needs_background": "light"
          }
        }
      ]
    },
    {
      "cell_type": "markdown",
      "source": [
        "***Polynomial Regression***"
      ],
      "metadata": {
        "id": "f1VkZIMVfih5"
      }
    },
    {
      "cell_type": "code",
      "source": [
        "lin_reg2 = LinearRegression()\n",
        "poly_reg = PolynomialFeatures(degree = 3,include_bias = False)\n",
        "x_poly = poly_reg.fit_transform(x)\n",
        "lin_reg2.fit(x_poly,y)"
      ],
      "metadata": {
        "colab": {
          "base_uri": "https://localhost:8080/"
        },
        "id": "I4AfQ7W9fhAD",
        "outputId": "1af74bae-52e1-4664-d8e8-f1054bf2079d"
      },
      "execution_count": 46,
      "outputs": [
        {
          "output_type": "execute_result",
          "data": {
            "text/plain": [
              "LinearRegression()"
            ]
          },
          "metadata": {},
          "execution_count": 46
        }
      ]
    },
    {
      "cell_type": "code",
      "source": [
        "y_predict_PR = lin_reg2.predict(poly_reg.fit_transform(x))"
      ],
      "metadata": {
        "id": "BMpJA7SFgC-r"
      },
      "execution_count": 47,
      "outputs": []
    },
    {
      "cell_type": "code",
      "source": [
        "print(r2_score(y,y_predict_PR))"
      ],
      "metadata": {
        "colab": {
          "base_uri": "https://localhost:8080/"
        },
        "id": "wkAjenOql0k5",
        "outputId": "e5138430-174d-47e8-a40b-aea3272b0cb8"
      },
      "execution_count": 48,
      "outputs": [
        {
          "output_type": "stream",
          "name": "stdout",
          "text": [
            "0.9999149743315169\n"
          ]
        }
      ]
    },
    {
      "cell_type": "markdown",
      "source": [
        "***Support Vector Regression***"
      ],
      "metadata": {
        "id": "Pyygz_PJxg2r"
      }
    },
    {
      "cell_type": "code",
      "source": [
        "sv_reg = SVR()\n",
        "sv_reg.fit(x_train,y_train)"
      ],
      "metadata": {
        "id": "2CW2hIXdxnAc",
        "colab": {
          "base_uri": "https://localhost:8080/"
        },
        "outputId": "d64e8e92-6091-44ce-9164-6b6fc680e2bf"
      },
      "execution_count": 49,
      "outputs": [
        {
          "output_type": "execute_result",
          "data": {
            "text/plain": [
              "SVR()"
            ]
          },
          "metadata": {},
          "execution_count": 49
        }
      ]
    },
    {
      "cell_type": "code",
      "source": [
        "y_predict_SVR = sv_reg.predict(x_test)"
      ],
      "metadata": {
        "id": "X6MBLasdd4ei"
      },
      "execution_count": 50,
      "outputs": []
    },
    {
      "cell_type": "code",
      "source": [
        "score = r2_score(y_test,y_predict_SVR)\n",
        "print(\"R2 Score is: \",score)"
      ],
      "metadata": {
        "colab": {
          "base_uri": "https://localhost:8080/"
        },
        "id": "VeqOj7-1d9rA",
        "outputId": "bca493ec-5cd1-4b7e-820c-6095343aa960"
      },
      "execution_count": 51,
      "outputs": [
        {
          "output_type": "stream",
          "name": "stdout",
          "text": [
            "R2 Score is:  -0.09199707688818215\n"
          ]
        }
      ]
    },
    {
      "cell_type": "code",
      "source": [
        "num_list = []\n",
        "i = 0\n",
        "for dat in y_test:\n",
        "  num_list.append(i)\n",
        "  i += 1\n",
        "plt.scatter(num_list,y_test,color = 'r')\n",
        "plt.xlabel('Testing Data')\n",
        "num_list.clear()\n",
        "i = 0\n",
        "for dat in y_predict_LR:\n",
        "  num_list.append(i)\n",
        "  i += 1\n",
        "plt.scatter(num_list,y_predict_SVR,color = 'g')\n",
        "plt.ylabel('Predicted Data')\n",
        "plt.title('Support Vector Regression Model results visualization')\n",
        "plt.show()"
      ],
      "metadata": {
        "colab": {
          "base_uri": "https://localhost:8080/",
          "height": 295
        },
        "id": "CzGeKL-wgGEO",
        "outputId": "3204643c-b242-4f6b-f6cf-c9f486c1141a"
      },
      "execution_count": 52,
      "outputs": [
        {
          "output_type": "display_data",
          "data": {
            "text/plain": [
              "<Figure size 432x288 with 1 Axes>"
            ],
            "image/png": "[encoded data removed]"
          },
          "metadata": {
            "needs_background": "light"
          }
        }
      ]
    },
    {
      "cell_type": "markdown",
      "source": [
        "***Decision Tree Regression***"
      ],
      "metadata": {
        "id": "y2VQS3V9VtjU"
      }
    },
    {
      "cell_type": "code",
      "source": [
        "dic_tree_reg = DecisionTreeRegressor(random_state = 0)\n",
        "dic_tree_reg.fit(x_train,y_train)"
      ],
      "metadata": {
        "colab": {
          "base_uri": "https://localhost:8080/"
        },
        "id": "kG3oscJGVhBP",
        "outputId": "23293143-8ac7-4c2e-9099-feece4b6d708"
      },
      "execution_count": 53,
      "outputs": [
        {
          "output_type": "execute_result",
          "data": {
            "text/plain": [
              "DecisionTreeRegressor(random_state=0)"
            ]
          },
          "metadata": {},
          "execution_count": 53
        }
      ]
    },
    {
      "cell_type": "code",
      "source": [
        "y_predict_dtr = dic_tree_reg.predict(x_test)"
      ],
      "metadata": {
        "id": "Cv7cWSA0VtM7"
      },
      "execution_count": 54,
      "outputs": []
    },
    {
      "cell_type": "code",
      "source": [
        "score = r2_score(y_test,y_predict_dtr)\n",
        "print(\"R2 Score is: \",score)"
      ],
      "metadata": {
        "colab": {
          "base_uri": "https://localhost:8080/"
        },
        "id": "16Des4sPWBdj",
        "outputId": "b1a275f5-06c1-4725-b9b0-05c9f4bbcf8b"
      },
      "execution_count": 55,
      "outputs": [
        {
          "output_type": "stream",
          "name": "stdout",
          "text": [
            "R2 Score is:  0.9233733819453998\n"
          ]
        }
      ]
    },
    {
      "cell_type": "code",
      "source": [
        "num_list = []\n",
        "i = 0\n",
        "for dat in y_test:\n",
        "  num_list.append(i)\n",
        "  i += 1\n",
        "plt.scatter(num_list,y_test,color = 'r')\n",
        "plt.xlabel('Testing Data')\n",
        "num_list.clear()\n",
        "i = 0\n",
        "for dat in y_predict_LR:\n",
        "  num_list.append(i)\n",
        "  i += 1\n",
        "plt.scatter(num_list,y_predict_dtr,color = 'g')\n",
        "plt.ylabel('Predicted Data')\n",
        "plt.title('Random Forest Regression Model results visualization')\n",
        "plt.show()"
      ],
      "metadata": {
        "colab": {
          "base_uri": "https://localhost:8080/",
          "height": 295
        },
        "id": "YWnQGvvqWN6X",
        "outputId": "0198e6b2-9b53-4239-aee1-652ae3647b21"
      },
      "execution_count": 56,
      "outputs": [
        {
          "output_type": "display_data",
          "data": {
            "text/plain": [
              "<Figure size 432x288 with 1 Axes>"
            ],
            "image/png": "[encoded data removed]"
          },
          "metadata": {
            "needs_background": "light"
          }
        }
      ]
    },
    {
      "cell_type": "markdown",
      "source": [
        "***Random Forest Regression***"
      ],
      "metadata": {
        "id": "jOPe6sNg627b"
      }
    },
    {
      "cell_type": "code",
      "source": [
        "rf_reg = RandomForestRegressor(n_estimators = 100, random_state = 0)\n",
        "rf_reg.fit(x_train,y_train)"
      ],
      "metadata": {
        "colab": {
          "base_uri": "https://localhost:8080/"
        },
        "id": "CbQyDjRU61QI",
        "outputId": "97b747fd-f368-4a1c-c654-d2e8d019363f"
      },
      "execution_count": 57,
      "outputs": [
        {
          "output_type": "execute_result",
          "data": {
            "text/plain": [
              "RandomForestRegressor(random_state=0)"
            ]
          },
          "metadata": {},
          "execution_count": 57
        }
      ]
    },
    {
      "cell_type": "code",
      "source": [
        "y_predict_RFR = rf_reg.predict(x_test)"
      ],
      "metadata": {
        "id": "p9dFOrjI7U88"
      },
      "execution_count": 60,
      "outputs": []
    },
    {
      "cell_type": "code",
      "source": [
        "score = r2_score(y_test,y_predict_RFR)\n",
        "print(\"R2 Score is: \",score)"
      ],
      "metadata": {
        "colab": {
          "base_uri": "https://localhost:8080/"
        },
        "id": "i0GVcrzm7puy",
        "outputId": "713d5113-647e-4df7-cf26-a7765086cb24"
      },
      "execution_count": 59,
      "outputs": [
        {
          "output_type": "stream",
          "name": "stdout",
          "text": [
            "R2 Score is:  0.9352251152257456\n"
          ]
        }
      ]
    },
    {
      "cell_type": "code",
      "source": [
        "num_list = []\n",
        "i = 0\n",
        "for dat in y_test:\n",
        "  num_list.append(i)\n",
        "  i += 1\n",
        "plt.scatter(num_list,y_test,color = 'r')\n",
        "plt.xlabel('Testing Data')\n",
        "num_list.clear()\n",
        "i = 0\n",
        "for dat in y_predict_LR:\n",
        "  num_list.append(i)\n",
        "  i += 1\n",
        "plt.scatter(num_list,y_predict_RFR,color = 'g')\n",
        "plt.ylabel('Predicted Data')\n",
        "plt.title('Random Forest Regression Model results visualization')\n",
        "plt.show()"
      ],
      "metadata": {
        "colab": {
          "base_uri": "https://localhost:8080/",
          "height": 295
        },
        "id": "bQQwpAOc73HT",
        "outputId": "1cfb8b72-14a0-47ca-89cf-9da285a40590"
      },
      "execution_count": 61,
      "outputs": [
        {
          "output_type": "display_data",
          "data": {
            "text/plain": [
              "<Figure size 432x288 with 1 Axes>"
            ],
            "image/png": "[encoded data removed]"
          },
          "metadata": {
            "needs_background": "light"
          }
        }
      ]
    }
  ]
}