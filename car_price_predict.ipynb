{
  "nbformat": 4,
  "nbformat_minor": 0,
  "metadata": {
    "colab": {
      "name": "car_price_predict.ipynb",
      "provenance": [],
      "authorship_tag": "ABX9TyPj4bTx1K4nKtlRUyCHd3v1",
      "include_colab_link": true
    },
    "kernelspec": {
      "name": "python3",
      "display_name": "Python 3"
    },
    "language_info": {
      "name": "python"
    }
  },
  "cells": [
    {
      "cell_type": "markdown",
      "metadata": {
        "id": "view-in-github",
        "colab_type": "text"
      },
      "source": [
        "<a href=\"https://colab.research.google.com/github/cosmic643/Car_price_prediction/blob/main/car_price_predict.ipynb\" target=\"_parent\"><img src=\"https://colab.research.google.com/assets/colab-badge.svg\" alt=\"Open In Colab\"/></a>"
      ]
    },
    {
      "cell_type": "code",
      "execution_count": null,
      "metadata": {
        "colab": {
          "base_uri": "https://localhost:8080/"
        },
        "id": "90EdDtoWdg5d",
        "outputId": "c2a17b63-e606-45cc-a8a1-a841a1e6c3c1"
      },
      "outputs": [
        {
          "output_type": "stream",
          "name": "stdout",
          "text": [
            "Drive already mounted at /content/drive; to attempt to forcibly remount, call drive.mount(\"/content/drive\", force_remount=True).\n"
          ]
        }
      ],
      "source": [
        "from google.colab import drive\n",
        "drive.mount('/content/drive')\n",
        "import pandas as pd\n",
        "from sklearn.preprocessing import LabelEncoder\n",
        "import seaborn as sns\n",
        "import matplotlib.pyplot as plt\n",
        "import numpy as np\n",
        "path = \"/content/drive/MyDrive/cars_engage_2022.csv\"\n",
        "cars = pd.read_csv(path)\n",
        "cars_temp = pd.read_csv(path)\n",
        "lab_enc = LabelEncoder()"
      ]
    },
    {
      "cell_type": "markdown",
      "source": [
        "Data Cleaning i.e.\n",
        "1. Filling all the missing values with their mode or mean\n",
        "2. Label Encoding the Categorical Data\n",
        "3. Manually Filling some Missing Data that is purely factual"
      ],
      "metadata": {
        "id": "w6kjcefRhGJM"
      }
    },
    {
      "cell_type": "code",
      "source": [
        "cars['Ex-Showroom_Price'] = cars['Ex-Showroom_Price'].str.replace(\"Rs.\",\"\").str.replace(\",\",\"\")\n",
        "cars['Ex-Showroom_Price']=pd.to_numeric(cars['Ex-Showroom_Price'],errors='coerce')\n",
        "cars['Ex-Showroom_Price']=cars['Ex-Showroom_Price'].fillna(cars['Ex-Showroom_Price'].mean())\n",
        "cars['Displacement']=cars['Displacement'].str.replace(\"cc\",\"\")\n",
        "cars['Displacement']=pd.to_numeric(cars['Displacement'],errors='coerce')\n",
        "cars['Displacement'] = cars['Displacement'].fillna(cars['Displacement'].mean())\n",
        "cars['Valves_Per_Cylinder'] = cars['Valves_Per_Cylinder'].fillna(cars['Valves_Per_Cylinder'].mode())\n",
        "cars['Cylinder'] = cars['Cylinders'].fillna(cars['Cylinders'].mode())\n",
        "cars['Fuel_Tank_Capacity'] = cars['Fuel_Tank_Capacity'].str.replace(\" litres\",\"\")\n",
        "cars['Fuel_Tank_Capacity'] = pd.to_numeric(cars['Fuel_Tank_Capacity'],errors='coerce')\n",
        "cars['Fuel_Tank_Capacity'] = cars['Fuel_Tank_Capacity'].fillna(cars['Fuel_Tank_Capacity'].mean())\n",
        "cars['Height'] = cars['Height'].str.replace(\"mm\",\"\")\n",
        "cars['Height'] = pd.to_numeric(cars['Height'],errors='coerce')\n",
        "cars['Height'] = cars['Height'].fillna(cars['Height'].mean())\n",
        "cars['Length'] = cars['Length'].str.replace(\"mm\",\"\")\n",
        "cars['Length'] = pd.to_numeric(cars['Length'],errors='coerce')\n",
        "cars['Length'] = cars['Length'].fillna(cars['Length'].mean())\n",
        "cars['Width'] = cars['Width'].str.replace(\"mm\",\"\")\n",
        "cars['Width'] = pd.to_numeric(cars['Width'],errors='coerce')\n",
        "cars['Width'] = cars['Width'].fillna(cars['Width'].mean())\n",
        "cars['City_Mileage']=cars['City_Mileage'].str.replace(\"km/litre\",\"\")\n",
        "cars['City_Mileage']=pd.to_numeric(cars['City_Mileage'],errors='coerce')\n",
        "cars['City_Mileage'] = cars['City_Mileage'].fillna(cars['City_Mileage'].mean())\n",
        "cars['Highway_Mileage']=cars['Highway_Mileage'].str.replace(\"km/litre\",\"\")\n",
        "cars['Highway_Mileage']=pd.to_numeric(cars['Highway_Mileage'],errors='coerce')\n",
        "cars['Highway_Mileage'] = cars['Highway_Mileage'].fillna(cars['Highway_Mileage'].mean())\n",
        "cars['ARAI_Certified_Mileage'] = cars['ARAI_Certified_Mileage'].str.replace(\"km/litre\",\"\")\n",
        "cars['ARAI_Certified_Mileage'] = pd.to_numeric(cars['ARAI_Certified_Mileage'],errors='coerce')\n",
        "cars['ARAI_Certified_Mileage'] = cars['ARAI_Certified_Mileage'].fillna(cars['ARAI_Certified_Mileage'].mean())\n",
        "cars['ARAI_Certified_Mileage_for_CNG'] = cars['ARAI_Certified_Mileage_for_CNG'].str.replace(\"km/kg\",\"\")\n",
        "cars['ARAI_Certified_Mileage_for_CNG'] = pd.to_numeric(cars['ARAI_Certified_Mileage_for_CNG'],errors='coerce')\n",
        "cars['ARAI_Certified_Mileage_for_CNG'] = cars['ARAI_Certified_Mileage_for_CNG'].fillna(cars['ARAI_Certified_Mileage_for_CNG'].mean())\n",
        "cars['Kerb_Weight'] = cars['Kerb_Weight'].str.replace(\"kg\",\"\")\n",
        "cars['Kerb_Weight'] = pd.to_numeric(cars['Kerb_Weight'],errors='coerce')\n",
        "cars['Kerb_Weight'] = cars['Kerb_Weight'].fillna(cars['Kerb_Weight'].mean())\n",
        "cars['Ground_Clearance'] = cars['Ground_Clearance'].str.replace(\"mm\",\"\")\n",
        "cars['Ground_Clearance'] = pd.to_numeric(cars['Ground_Clearance'],errors='coerce')\n",
        "cars['Ground_Clearance'] = cars['Ground_Clearance'].fillna(cars['Ground_Clearance'].mean())\n",
        "cars['Front_Track'] = cars['Front_Track'].str.replace(\"mm\",\"\")\n",
        "cars['Front_Track'] = pd.to_numeric(cars['Front_Track'],errors='coerce')\n",
        "cars['Front_Track'] = cars['Front_Track'].fillna(cars['Front_Track'].mean())\n",
        "cars['Rear_Track'] = cars['Rear_Track'].str.replace(\"mm\",\"\")\n",
        "cars['Rear_Track'] = pd.to_numeric(cars['Rear_Track'],errors='coerce')\n",
        "cars['Rear_Track'] = cars['Rear_Track'].fillna(cars['Rear_Track'].mean())\n",
        "cars['Wheelbase'] = cars['Wheelbase'].str.replace(\"mm\",\"\")\n",
        "cars['Wheelbase'] = pd.to_numeric(cars['Wheelbase'],errors='coerce')\n",
        "cars['Wheelbase'] = cars['Wheelbase'].fillna(cars['Wheelbase'].mean())\n",
        "cars['Boot_Space'] = cars['Boot_Space'].str.replace(\"litres\",\"\")\n",
        "cars['Boot_Space'] = pd.to_numeric(cars['Boot_Space'],errors='coerce')\n",
        "cars['Boot_Space'] = cars['Boot_Space'].fillna(cars['Boot_Space'].mean())\n",
        "cars['Minimum_Turning_Radius'] = cars['Minimum_Turning_Radius'].str.replace(\"meter\",\"\")\n",
        "cars['Minimum_Turning_Radius'] = pd.to_numeric(cars['Minimum_Turning_Radius'],errors='coerce')\n",
        "cars['Minimum_Turning_Radius'] = cars['Minimum_Turning_Radius'].fillna(cars['Minimum_Turning_Radius'].mean())\n",
        "cars['Gross_Vehicle_Weight'] = cars['Gross_Vehicle_Weight'].str.replace(\"kg\",\"\")\n",
        "cars['Gross_Vehicle_Weight'] = pd.to_numeric(cars['Gross_Vehicle_Weight'],errors='coerce')\n",
        "cars['Gross_Vehicle_Weight'] = cars['Gross_Vehicle_Weight'].fillna(cars['Gross_Vehicle_Weight'].mean())\n",
        "cars['Electric_Range'] = cars['Electric_Range'].str.replace(\"km/full charge\",\"\")\n",
        "cars['Electric_Range'] = pd.to_numeric(cars['Electric_Range'],errors='coerce')\n",
        "cars['Electric_Range'] = cars['Electric_Range'].fillna(cars['Electric_Range'].mean())\n",
        "cars['Battery']=cars['Battery'].str.replace(\"ampere-hour\",\"\").str.replace(\"kWh,Battery Placed Under Rear Seats\",\"\").str.replace(\"(kWh), Lithium Ion\",\"\").str.replace(\" kWh* Advanced Li-ion polymer, liquid cooled battery pack with IP67 certification\",\"\").str.replace(\"\",\"\").str.replace(\"(kWh), Lithium Ion\",\"\")\n",
        "cars['Battery']=pd.to_numeric(cars['Battery'],errors='coerce')\n",
        "cars['Battery']=cars['Battery'].fillna(cars['Battery'].mean())\n",
        "cars['Gears']=pd.to_numeric(cars['Gears'],errors='coerce')\n",
        "cars['Gears']=cars['Gears'].fillna(cars['Gears'].mode())\n",
        "cars['Compression_Ratio']=pd.to_numeric(cars['Compression_Ratio'],errors='coerce')\n",
        "cars['USB_Ports']=pd.to_numeric(cars['USB_Ports'],errors='coerce')\n",
        "cars['USB_Ports']=cars['USB_Ports'].fillna(cars['USB_Ports'].mean())\n",
        "cars['Seating_Capacity']=cars['Seating_Capacity'].fillna(cars['Seating_Capacity'].median())\n",
        "cars['Compression_Ratio']=cars['Compression_Ratio'].fillna(cars['Compression_Ratio'].mean())\n",
        "cars['Drivetrain'] = lab_enc.fit_transform(cars.Drivetrain)\n",
        "cars['Drivetrain'] = cars['Drivetrain'].fillna(cars['Drivetrain'].mode(),inplace = False)\n",
        "cars['Start_/_Stop_Button'] = cars['Start_/_Stop_Button'].fillna(\"No\")\n",
        "cars['Start_/_Stop_Button']=lab_enc.fit_transform(cars['Start_/_Stop_Button'])\n",
        "cars['12v_Power_Outlet'] = cars['12v_Power_Outlet'].fillna(\"No\")\n",
        "cars['12v_Power_Outlet']=lab_enc.fit_transform(cars['12v_Power_Outlet'])\n",
        "cars['Average_Fuel_Consumption'] = cars['Average_Fuel_Consumption'].fillna(\"No\")\n",
        "cars['Average_Fuel_Consumption']=lab_enc.fit_transform(cars['Average_Fuel_Consumption'])\n",
        "cars['Central_Locking'] = cars['Central_Locking'].fillna(\"No\")\n",
        "cars['Central_Locking'] = lab_enc.fit_transform(cars['Central_Locking'])\n",
        "cars['Engine_Malfunction_Light'] = cars['Engine_Malfunction_Light'].fillna(\"No\")\n",
        "cars['Engine_Malfunction_Light'] = lab_enc.fit_transform(cars['Engine_Malfunction_Light'])\n",
        "cars['Low_Fuel_Warning'] = cars['Low_Fuel_Warning'].fillna(\"No\")\n",
        "cars['Low_Fuel_Warning'] = lab_enc.fit_transform(cars['Low_Fuel_Warning'])\n",
        "cars['Multifunction_Displayg'] = cars['Multifunction_Display'].fillna(\"No\")\n",
        "cars['Multifunction_Display'] = lab_enc.fit_transform(cars['Multifunction_Display'])\n",
        "cars['Auto-Dimming_Rear-View_Mirror'] = cars['Auto-Dimming_Rear-View_Mirror'].fillna(\"No\")\n",
        "cars['Auto-Dimming_Rear-View_Mirror'] = lab_enc.fit_transform(cars['Auto-Dimming_Rear-View_Mirror'])\n",
        "cars['3_Point_Seat-Belt_in_Middle_Rear_Seat'] = cars['3_Point_Seat-Belt_in_Middle_Rear_Seat'].fillna(\"No\")\n",
        "cars['3_Point_Seat-Belt_in_Middle_Rear_Seat'] = lab_enc.fit_transform(cars['3_Point_Seat-Belt_in_Middle_Rear_Seat'])\n",
        "cars['Ambient_Lightning'] = cars['Ambient_Lightning'].fillna(\"No\")\n",
        "cars['Ambient_Lightning'] = lab_enc.fit_transform(cars['Ambient_Lightning'])\n",
        "cars['Cargo/Boot_Lights'] = lab_enc.fit_transform(cars['Cargo/Boot_Lights'])\n",
        "cars['Engine_Immobilizer'] = lab_enc.fit_transform(cars['Engine_Immobilizer'])\n",
        "cars['High_Speed_Alert_System'] = lab_enc.fit_transform(cars['High_Speed_Alert_System'])\n",
        "cars['Lane_Watch_Camera/_Side_Mirror_Camera'] = lab_enc.fit_transform(cars['Lane_Watch_Camera/_Side_Mirror_Camera'])\n",
        "cars['Passenger_Side_Seat-Belt_Reminder'] = lab_enc.fit_transform(cars['Passenger_Side_Seat-Belt_Reminder'])\n",
        "cars['Seat_Back_Pockets'] = lab_enc.fit_transform(cars['Seat_Back_Pockets'])\n",
        "cars['Voice_Recognition'] = lab_enc.fit_transform(cars['Voice_Recognition'])\n",
        "cars['Walk_Away_Auto_Car_Lock'] = lab_enc.fit_transform(cars['Walk_Away_Auto_Car_Lock'])\n",
        "cars['ABS_(Anti-lock_Braking_System)'] = lab_enc.fit_transform(cars['ABS_(Anti-lock_Braking_System)'])\n",
        "cars['Headlight_Reminder'] = lab_enc.fit_transform(cars['Headlight_Reminder'])\n",
        "cars['Door_Ajar_Warning'] = lab_enc.fit_transform(cars['Door_Ajar_Warning'])\n",
        "cars['EBD_(Electronic_Brake-force_Distribution)'] = lab_enc.fit_transform(cars['EBD_(Electronic_Brake-force_Distribution)'])\n",
        "cars['Fasten_Seat_Belt_Warning'] = lab_enc.fit_transform(cars['Fasten_Seat_Belt_Warning'])\n",
        "cars['Gear_Shift_Reminder'] = lab_enc.fit_transform(cars['Gear_Shift_Reminder'])\n",
        "cars['Key_Off_Reminder'] = lab_enc.fit_transform(cars['Key_Off_Reminder'])\n",
        "cars['USB_Compatibility'] = lab_enc.fit_transform(cars['USB_Compatibility'])\n",
        "cars['Android_Auto'] = lab_enc.fit_transform(cars['Android_Auto'])\n",
        "cars['Apple_CarPlay'] = lab_enc.fit_transform(cars['Apple_CarPlay'])\n",
        "cars['iPod_Compatibility'] = lab_enc.fit_transform(cars['iPod_Compatibility'])\n",
        "cars['ESP_(Electronic_Stability_Program)'] = lab_enc.fit_transform(cars['ESP_(Electronic_Stability_Program)'])\n",
        "cars['Cooled_Glove_Box'] = lab_enc.fit_transform(cars['Cooled_Glove_Box'])\n",
        "cars['Turbocharger'] = lab_enc.fit_transform(cars['Turbocharger'])\n",
        "cars['ISOFIX_(Child-Seat_Mount)'] = lab_enc.fit_transform(cars['ISOFIX_(Child-Seat_Mount)'])\n",
        "cars['Rain_Sensing_Wipers'] = lab_enc.fit_transform(cars['Rain_Sensing_Wipers'])\n",
        "cars['Paddle_Shifters'] = lab_enc.fit_transform(cars['Paddle_Shifters'])\n",
        "cars['Leather_Wrapped_Steering'] = lab_enc.fit_transform(cars['Leather_Wrapped_Steering'])\n",
        "cars['Automatic_Headlamps'] = lab_enc.fit_transform(cars['Automatic_Headlamps'])\n",
        "cars['ASR_/_Traction_Control'] = lab_enc.fit_transform(cars['ASR_/_Traction_Control'])\n",
        "cars['Cruise_Control'] = lab_enc.fit_transform(cars['Cruise_Control'])\n",
        "cars['Heads-Up_Display'] = lab_enc.fit_transform(cars['Heads-Up_Display'])\n",
        "cars['Welcome_Lights'] = lab_enc.fit_transform(cars['Welcome_Lights'])\n",
        "cars['Cigarette_Lighter'] = lab_enc.fit_transform(cars['Cigarette_Lighter'])\n",
        "cars['Average_Speed'] = lab_enc.fit_transform(cars['Average_Speed'])\n",
        "cars['EBA_(Electronic_Brake_Assist)'] = lab_enc.fit_transform(cars['EBA_(Electronic_Brake_Assist)'])\n",
        "cars['Navigation_System'] = lab_enc.fit_transform(cars['Navigation_System'])\n",
        "cars['Second_Row_AC_Vents'] = lab_enc.fit_transform(cars['Second_Row_AC_Vents'])\n",
        "cars['Tyre_Pressure_Monitoring_System'] = lab_enc.fit_transform(cars['Tyre_Pressure_Monitoring_System'])\n",
        "cars['Number_of_Airbags'] = cars['Number_of_Airbags'].fillna(0)\n",
        "cars['Make'] = cars['Make'].fillna('Mercedes')\n",
        "cars['Make'][883] = 'Datsun'\n",
        "cars['Make'][884] = 'Datsun'\n",
        "cars['Make'][885] = 'Datsun'\n",
        "cars['Make'][886] = 'Datsun'\n",
        "cars['Make'][887] = 'Datsun'\n",
        "cars['Make'][888] = 'Datsun'\n",
        "cars['Make'][889] = 'Datsun'\n",
        "cars['Make'][890] = 'Datsun'\n",
        "cars['Make'][891] = 'Datsun'\n",
        "cars['Make'][1219] = 'Rolls Royce'\n",
        "cars['Make'][1220] = 'Rolls Royce'"
      ],
      "metadata": {
        "id": "YXKzn-MXdzNK"
      },
      "execution_count": null,
      "outputs": []
    },
    {
      "cell_type": "code",
      "source": [
        "cars['Number_of_Airbags']"
      ],
      "metadata": {
        "colab": {
          "base_uri": "https://localhost:8080/"
        },
        "id": "A9S0nhJykO3d",
        "outputId": "89d65066-fa11-4d02-bc6a-29fe11ed59a5"
      },
      "execution_count": null,
      "outputs": [
        {
          "output_type": "execute_result",
          "data": {
            "text/plain": [
              "0        No\n",
              "1        No\n",
              "2        No\n",
              "3        No\n",
              "4        No\n",
              "       ... \n",
              "1271    2.0\n",
              "1272    6.0\n",
              "1273    6.0\n",
              "1274    2.0\n",
              "1275    6.0\n",
              "Name: Number_of_Airbags, Length: 1276, dtype: object"
            ]
          },
          "metadata": {},
          "execution_count": 6
        }
      ]
    },
    {
      "cell_type": "markdown",
      "source": [
        "Prediction of Prices using the following parameters\n",
        "1. Displacement\n",
        "2. Cylinders\n",
        "3. Valves per Cylinder\n",
        "4. Fuel tank Capacity\n",
        "5. City Mileage\n",
        "6. Highway Mileage\n",
        "7. Kerb Weight\n",
        "8. Gears\n",
        "9. Front Brakes\n",
        "10. Steering and Windows\n",
        "11. Power\n",
        "12. Torque\n",
        "13. Seating Capacity\n",
        "14. Boot Space\n",
        "15. Airbags\n"
      ],
      "metadata": {
        "id": "8T3YjiSDhFBg"
      }
    },
    {
      "cell_type": "code",
      "source": [
        ""
      ],
      "metadata": {
        "id": "xaYtoC6Asr24"
      },
      "execution_count": null,
      "outputs": []
    }
  ]
}