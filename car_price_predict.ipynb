{
  "nbformat": 4,
  "nbformat_minor": 0,
  "metadata": {
    "colab": {
      "name": "car_price_predict.ipynb",
      "provenance": [],
      "authorship_tag": "ABX9TyOcngzpPH1xYV2m0LAM1f8U",
      "include_colab_link": true
    },
    "kernelspec": {
      "name": "python3",
      "display_name": "Python 3"
    },
    "language_info": {
      "name": "python"
    }
  },
  "cells": [
    {
      "cell_type": "markdown",
      "metadata": {
        "id": "view-in-github",
        "colab_type": "text"
      },
      "source": [
        "<a href=\"https://colab.research.google.com/github/cosmic643/Car_price_prediction/blob/main/car_price_predict.ipynb\" target=\"_parent\"><img src=\"https://colab.research.google.com/assets/colab-badge.svg\" alt=\"Open In Colab\"/></a>"
      ]
    },
    {
      "cell_type": "code",
      "execution_count": null,
      "metadata": {
        "colab": {
          "base_uri": "https://localhost:8080/"
        },
        "id": "90EdDtoWdg5d",
        "outputId": "8a540962-7c3a-4602-b0a5-051c39b4b88b"
      },
      "outputs": [
        {
          "output_type": "stream",
          "name": "stdout",
          "text": [
            "Mounted at /content/drive\n"
          ]
        }
      ],
      "source": [
        "from google.colab import drive\n",
        "drive.mount('/content/drive')\n",
        "import pandas as pd\n",
        "from sklearn.preprocessing import LabelEncoder\n",
        "import seaborn as sns\n",
        "import matplotlib.pyplot as plt\n",
        "import numpy as np"
      ]
    },
    {
      "cell_type": "code",
      "source": [
        "path = \"/content/drive/MyDrive/cars_engage_2022.csv\"\n",
        "cars = pd.read_csv(path)\n",
        "cars_temp = pd.read_csv(path)\n",
        "lab_enc = LabelEncoder()"
      ],
      "metadata": {
        "id": "evSkHQAXDrgd"
      },
      "execution_count": null,
      "outputs": []
    },
    {
      "cell_type": "markdown",
      "source": [
        "Data Cleaning i.e.\n",
        "1. Filling all the missing values with their mode or mean\n",
        "2. Label Encoding the Categorical Data\n",
        "3. Manually Filling some Missing Data that is purely factual"
      ],
      "metadata": {
        "id": "w6kjcefRhGJM"
      }
    },
    {
      "cell_type": "code",
      "source": [
        "cars['Ex-Showroom_Price'] = cars['Ex-Showroom_Price'].str.replace(\"Rs.\",\"\").str.replace(\",\",\"\")\n",
        "cars['Ex-Showroom_Price']=pd.to_numeric(cars['Ex-Showroom_Price'],errors='coerce')\n",
        "cars['Ex-Showroom_Price']=cars['Ex-Showroom_Price'].fillna(cars['Ex-Showroom_Price'].mean())\n",
        "cars['Displacement']=cars['Displacement'].str.replace(\"cc\",\"\")\n",
        "cars['Displacement']=pd.to_numeric(cars['Displacement'],errors='coerce')\n",
        "cars['Displacement'] = cars['Displacement'].fillna(cars['Displacement'].mean())\n",
        "cars['Valves_Per_Cylinder'] = cars['Valves_Per_Cylinder'].fillna(cars['Valves_Per_Cylinder'].mode()[0])\n",
        "cars['Cylinder'] = cars['Cylinders'].fillna(cars['Cylinders'].mode()[0])\n",
        "cars['Fuel_Tank_Capacity'] = cars['Fuel_Tank_Capacity'].str.replace(\" litres\",\"\")\n",
        "cars['Fuel_Tank_Capacity'] = pd.to_numeric(cars['Fuel_Tank_Capacity'],errors='coerce')\n",
        "cars['Fuel_Tank_Capacity'] = cars['Fuel_Tank_Capacity'].fillna(cars['Fuel_Tank_Capacity'].mean())\n",
        "cars['Height'] = cars['Height'].str.replace(\"mm\",\"\")\n",
        "cars['Height'] = pd.to_numeric(cars['Height'],errors='coerce')\n",
        "cars['Height'] = cars['Height'].fillna(cars['Height'].mean())\n",
        "cars['Length'] = cars['Length'].str.replace(\"mm\",\"\")\n",
        "cars['Length'] = pd.to_numeric(cars['Length'],errors='coerce')\n",
        "cars['Length'] = cars['Length'].fillna(cars['Length'].mean())\n",
        "cars['Width'] = cars['Width'].str.replace(\"mm\",\"\")\n",
        "cars['Width'] = pd.to_numeric(cars['Width'],errors='coerce')\n",
        "cars['Width'] = cars['Width'].fillna(cars['Width'].mean())\n",
        "cars['City_Mileage']=cars['City_Mileage'].str.replace(\"km/litre\",\"\")\n",
        "cars['City_Mileage']=pd.to_numeric(cars['City_Mileage'],errors='coerce')\n",
        "cars['City_Mileage'] = cars['City_Mileage'].fillna(cars['City_Mileage'].mean())\n",
        "cars['Highway_Mileage']=cars['Highway_Mileage'].str.replace(\"km/litre\",\"\")\n",
        "cars['Highway_Mileage']=pd.to_numeric(cars['Highway_Mileage'],errors='coerce')\n",
        "cars['Highway_Mileage'] = cars['Highway_Mileage'].fillna(cars['Highway_Mileage'].mean())\n",
        "cars['ARAI_Certified_Mileage'] = cars['ARAI_Certified_Mileage'].str.replace(\"km/litre\",\"\")\n",
        "cars['ARAI_Certified_Mileage'] = pd.to_numeric(cars['ARAI_Certified_Mileage'],errors='coerce')\n",
        "cars['ARAI_Certified_Mileage'] = cars['ARAI_Certified_Mileage'].fillna(cars['ARAI_Certified_Mileage'].mean())\n",
        "cars['ARAI_Certified_Mileage_for_CNG'] = cars['ARAI_Certified_Mileage_for_CNG'].str.replace(\"km/kg\",\"\")\n",
        "cars['ARAI_Certified_Mileage_for_CNG'] = pd.to_numeric(cars['ARAI_Certified_Mileage_for_CNG'],errors='coerce')\n",
        "cars['ARAI_Certified_Mileage_for_CNG'] = cars['ARAI_Certified_Mileage_for_CNG'].fillna(cars['ARAI_Certified_Mileage_for_CNG'].mean())\n",
        "cars['Kerb_Weight'] = cars['Kerb_Weight'].str.replace(\"kg\",\"\")\n",
        "cars['Kerb_Weight'] = pd.to_numeric(cars['Kerb_Weight'],errors='coerce')\n",
        "cars['Kerb_Weight'] = cars['Kerb_Weight'].fillna(cars['Kerb_Weight'].mean())\n",
        "cars['Ground_Clearance'] = cars['Ground_Clearance'].str.replace(\"mm\",\"\")\n",
        "cars['Ground_Clearance'] = pd.to_numeric(cars['Ground_Clearance'],errors='coerce')\n",
        "cars['Ground_Clearance'] = cars['Ground_Clearance'].fillna(cars['Ground_Clearance'].mean())\n",
        "cars['Front_Track'] = cars['Front_Track'].str.replace(\"mm\",\"\")\n",
        "cars['Front_Track'] = pd.to_numeric(cars['Front_Track'],errors='coerce')\n",
        "cars['Front_Track'] = cars['Front_Track'].fillna(cars['Front_Track'].mean())\n",
        "cars['Rear_Track'] = cars['Rear_Track'].str.replace(\"mm\",\"\")\n",
        "cars['Rear_Track'] = pd.to_numeric(cars['Rear_Track'],errors='coerce')\n",
        "cars['Rear_Track'] = cars['Rear_Track'].fillna(cars['Rear_Track'].mean())\n",
        "cars['Wheelbase'] = cars['Wheelbase'].str.replace(\"mm\",\"\")\n",
        "cars['Wheelbase'] = pd.to_numeric(cars['Wheelbase'],errors='coerce')\n",
        "cars['Wheelbase'] = cars['Wheelbase'].fillna(cars['Wheelbase'].mean())\n",
        "cars['Boot_Space'] = cars['Boot_Space'].str.replace(\"litres\",\"\")\n",
        "cars['Boot_Space'] = pd.to_numeric(cars['Boot_Space'],errors='coerce')\n",
        "cars['Boot_Space'] = cars['Boot_Space'].fillna(cars['Boot_Space'].mean())\n",
        "cars['Minimum_Turning_Radius'] = cars['Minimum_Turning_Radius'].str.replace(\"meter\",\"\")\n",
        "cars['Minimum_Turning_Radius'] = pd.to_numeric(cars['Minimum_Turning_Radius'],errors='coerce')\n",
        "cars['Minimum_Turning_Radius'] = cars['Minimum_Turning_Radius'].fillna(cars['Minimum_Turning_Radius'].mean())\n",
        "cars['Gross_Vehicle_Weight'] = cars['Gross_Vehicle_Weight'].str.replace(\"kg\",\"\")\n",
        "cars['Gross_Vehicle_Weight'] = pd.to_numeric(cars['Gross_Vehicle_Weight'],errors='coerce')\n",
        "cars['Gross_Vehicle_Weight'] = cars['Gross_Vehicle_Weight'].fillna(cars['Gross_Vehicle_Weight'].mean())\n",
        "cars['Electric_Range'] = cars['Electric_Range'].str.replace(\"km/full charge\",\"\")\n",
        "cars['Electric_Range'] = pd.to_numeric(cars['Electric_Range'],errors='coerce')\n",
        "cars['Electric_Range'] = cars['Electric_Range'].fillna(cars['Electric_Range'].mean())\n",
        "cars['Battery']=cars['Battery'].str.replace(\"ampere-hour\",\"\").str.replace(\"kWh,Battery Placed Under Rear Seats\",\"\").str.replace(\"(kWh), Lithium Ion\",\"\").str.replace(\" kWh* Advanced Li-ion polymer, liquid cooled battery pack with IP67 certification\",\"\").str.replace(\"\",\"\").str.replace(\"(kWh), Lithium Ion\",\"\")\n",
        "cars['Battery']=pd.to_numeric(cars['Battery'],errors='coerce')\n",
        "cars['Battery']=cars['Battery'].fillna(cars['Battery'].mean())\n",
        "cars['Gears']=pd.to_numeric(cars['Gears'],errors='coerce')\n",
        "cars['Gears']=cars['Gears'].fillna(cars['Gears'].mode())\n",
        "cars['Compression_Ratio']=pd.to_numeric(cars['Compression_Ratio'],errors='coerce')\n",
        "cars['USB_Ports']=pd.to_numeric(cars['USB_Ports'],errors='coerce')\n",
        "cars['USB_Ports']=cars['USB_Ports'].fillna(cars['USB_Ports'].mean())\n",
        "cars['Seating_Capacity']=cars['Seating_Capacity'].fillna(cars['Seating_Capacity'].median())\n",
        "cars['Compression_Ratio']=cars['Compression_Ratio'].fillna(cars['Compression_Ratio'].mean())"
      ],
      "metadata": {
        "id": "YXKzn-MXdzNK",
        "colab": {
          "base_uri": "https://localhost:8080/"
        },
        "outputId": "3d9c55d1-27f5-4f19-f9ca-5ebe6ced4e26"
      },
      "execution_count": null,
      "outputs": [
        {
          "output_type": "stream",
          "name": "stderr",
          "text": [
            "/usr/local/lib/python3.7/dist-packages/ipykernel_launcher.py:1: FutureWarning: The default value of regex will change from True to False in a future version.\n",
            "  \"\"\"Entry point for launching an IPython kernel.\n",
            "/usr/local/lib/python3.7/dist-packages/ipykernel_launcher.py:60: FutureWarning: The default value of regex will change from True to False in a future version.\n"
          ]
        }
      ]
    },
    {
      "cell_type": "markdown",
      "source": [
        "Prediction of Prices using the following parameters:\n",
        "1. Displacement\n",
        "2. Cylinders\n",
        "3. Valves per Cylinder\n",
        "4. Fuel tank Capacity\n",
        "5. City Mileage\n",
        "6. Highway Mileage\n",
        "7. Kerb Weight\n",
        "8. Gears\n",
        "9. Front Brakes\n",
        "10. Minimum Turning Radius\n",
        "11. Power\n",
        "12. Torque\n",
        "13. Seating Capacity\n",
        "14. Boot Space\n",
        "15. Airbags\n",
        "16. Volume of the car :- Height x length x breadth (To reduce features)\n",
        "17. Wheelbase\n",
        "18. Antilock Braking System (ABS)\n",
        "19. Gross Vehicle weight\n",
        "20. Ground Clearance\n",
        "\n",
        "This is done as all the parameters are are not required to be considered like the presence of odometer and speedometer need not be considered as these does not affect car prices very much and just like them I have removed many dormant features"
      ],
      "metadata": {
        "id": "8T3YjiSDhFBg"
      }
    },
    {
      "cell_type": "code",
      "source": [
        "model_data = cars[['Displacement','Cylinders','Valves_Per_Cylinder','Fuel_Tank_Capacity','City_Mileage','Highway_Mileage','Kerb_Weight','Gears','Minimum_Turning_Radius'\n",
        "                  ,'Power','Torque','Seating_Capacity','Boot_Space','Number_of_Airbags','Gross_Vehicle_Weight','Ground_Clearance']]\n",
        "model_data['Volume'] = (cars['Height']*cars['Width']*cars['Length'])/1000000000\n",
        "price_data = cars['Ex-Showroom_Price']"
      ],
      "metadata": {
        "id": "xaYtoC6Asr24"
      },
      "execution_count": null,
      "outputs": []
    },
    {
      "cell_type": "code",
      "source": [
        "model_data['Cylinders'] = model_data['Cylinders'].fillna(model_data['Cylinders'].mode()[0])\n",
        "model_data['Gears'] = model_data['Gears'].fillna(model_data['Gears'].mode()[0])\n",
        "model_data['Number_of_Airbags'] = model_data['Number_of_Airbags'].fillna(0)"
      ],
      "metadata": {
        "id": "269qoGbAwQ2p"
      },
      "execution_count": null,
      "outputs": []
    },
    {
      "cell_type": "markdown",
      "source": [
        "Here in the feature power we stripped the string till only the power only to make the data more meaning full"
      ],
      "metadata": {
        "id": "S81TOmwFrN9f"
      }
    },
    {
      "cell_type": "code",
      "source": [
        "i = 0\n",
        "for dat in model_data['Power']:\n",
        "  model_data['Power'][i] = dat.split('P',1)[0]\n",
        "  i += 1\n",
        "model_data['Power'][1275] = 202\n",
        "model_data['Power'] = pd.to_numeric(model_data['Power'],errors='coerce')\n",
        "model_data['Power'].fillna(model_data['Power'].mean(),inplace = True)"
      ],
      "metadata": {
        "id": "6wx1qf2DrHXu"
      },
      "execution_count": null,
      "outputs": []
    },
    {
      "cell_type": "markdown",
      "source": [
        "Now in torque we follow similar procedure as we did in power but here due to some NULL values in the column we need to use excetion handling in python, after following the procedure we now need to fill the NULL values and we do it by the mean"
      ],
      "metadata": {
        "id": "p9l6yoVoxxED"
      }
    },
    {
      "cell_type": "code",
      "source": [
        "j = 0\n",
        "for dat in model_data['Torque']:\n",
        " try:\n",
        "   model_data['Torque'][j] = dat.split('N',1)[0]\n",
        " except:\n",
        "   continue\n",
        " j += 1\n",
        " model_data['Torque'][1274] = 145\n",
        " model_data['Torque'][1275] = 441\n",
        " model_data['Torque'] = pd.to_numeric(model_data['Torque'],errors='coerce')\n",
        " model_data['Torque'].fillna(model_data['Torque'].mean(),inplace = True)"
      ],
      "metadata": {
        "id": "M0y8sn5avegw"
      },
      "execution_count": null,
      "outputs": []
    },
    {
      "cell_type": "code",
      "source": [
        "for data in model_data:\n",
        "  if(model_data[data].isna().sum() != 0):\n",
        "    print(data,\"\\n\")"
      ],
      "metadata": {
        "id": "ruD2w9FA4Bz7"
      },
      "execution_count": null,
      "outputs": []
    },
    {
      "cell_type": "markdown",
      "source": [
        "Till here we have cleaned our data according to our needs and the data is ready to be fed to the models for their training and prediction puroposes\n",
        "\n",
        "Models that will be trained:\n",
        "1. Linear Regression\n",
        "2. Polynomial Regression\n",
        "3. Support Vector Regression\n",
        "4. Decision Trees"
      ],
      "metadata": {
        "id": "HU4Xegxayjwe"
      }
    },
    {
      "cell_type": "code",
      "source": [
        "from sklearn.linear_model import LinearRegression\n",
        "from sklearn.model_selection import train_test_split\n",
        "from sklearn.metrics import r2_score\n",
        "from sklearn.metrics import mean_squared_error\n",
        "from sklearn.preprocessing import PolynomialFeatures\n",
        "x = np.array(model_data)\n",
        "y = np.array(price_data)\n",
        "x_train, x_test, y_train, y_test = train_test_split(x,y,test_size = 0.25,random_state = 0)"
      ],
      "metadata": {
        "id": "85DKPTQAApd0"
      },
      "execution_count": null,
      "outputs": []
    },
    {
      "cell_type": "markdown",
      "source": [
        "***Linear Regression***"
      ],
      "metadata": {
        "id": "H5bC7CCDAWUU"
      }
    },
    {
      "cell_type": "code",
      "source": [
        "lin_reg = LinearRegression()\n",
        "lin_reg.fit(x_train,y_train)"
      ],
      "metadata": {
        "colab": {
          "base_uri": "https://localhost:8080/"
        },
        "id": "jPbImB_zAj1F",
        "outputId": "3f39e381-ba45-475a-8c0b-f29e25f664c1"
      },
      "execution_count": null,
      "outputs": [
        {
          "output_type": "execute_result",
          "data": {
            "text/plain": [
              "LinearRegression()"
            ]
          },
          "metadata": {},
          "execution_count": 10
        }
      ]
    },
    {
      "cell_type": "code",
      "source": [
        "y_predict_LR = lin_reg.predict(x_test)"
      ],
      "metadata": {
        "id": "EbijftO0z4RS"
      },
      "execution_count": null,
      "outputs": []
    },
    {
      "cell_type": "code",
      "source": [
        "score = r2_score(y_test,y_predict_LR)\n",
        "print(\"R2 Score is: \",score)"
      ],
      "metadata": {
        "colab": {
          "base_uri": "https://localhost:8080/"
        },
        "id": "1mTlsPIH11Yp",
        "outputId": "0869b104-7640-428a-eb76-408c447671c9"
      },
      "execution_count": null,
      "outputs": [
        {
          "output_type": "stream",
          "name": "stdout",
          "text": [
            "R2 Score is:  0.7344494492202284\n"
          ]
        }
      ]
    },
    {
      "cell_type": "code",
      "source": [
        "num_list = []\n",
        "i = 0\n",
        "for dat in y_test:\n",
        "  num_list.append(i)\n",
        "  i += 1\n",
        "plt.scatter(num_list,y_test,color = 'r')\n",
        "plt.xlabel('Testing Data')\n",
        "num_list.clear()\n",
        "i = 0\n",
        "for dat in y_predict_LR:\n",
        "  num_list.append(i)\n",
        "  i += 1\n",
        "plt.scatter(num_list,y_predict_LR,color = 'g')\n",
        "plt.ylabel('Predicted Data')\n",
        "plt.title('Linear Regression Model results visualization')\n",
        "plt.show()"
      ],
      "metadata": {
        "colab": {
          "base_uri": "https://localhost:8080/",
          "height": 295
        },
        "id": "XQOLkta8RYWk",
        "outputId": "1f5374e0-ffb3-4924-c39d-0cb40e506b68"
      },
      "execution_count": null,
      "outputs": [
        {
          "output_type": "display_data",
          "data": {
            "text/plain": [
              "<Figure size 432x288 with 1 Axes>"
            ],
            "image/png": "[encoded data removed]"
          },
          "metadata": {
            "needs_background": "light"
          }
        }
      ]
    },
    {
      "cell_type": "markdown",
      "source": [
        "***Polynomial Regression***"
      ],
      "metadata": {
        "id": "f1VkZIMVfih5"
      }
    },
    {
      "cell_type": "code",
      "source": [
        "lin_reg2 = LinearRegression()\n",
        "poly_reg = PolynomialFeatures(degree = 3,include_bias = False)\n",
        "x_poly = poly_reg.fit_transform(x)\n",
        "lin_reg2.fit(x_poly,y)"
      ],
      "metadata": {
        "colab": {
          "base_uri": "https://localhost:8080/"
        },
        "id": "I4AfQ7W9fhAD",
        "outputId": "3c29eea0-a205-45e9-8ba9-25e7c78a60c5"
      },
      "execution_count": null,
      "outputs": [
        {
          "output_type": "execute_result",
          "data": {
            "text/plain": [
              "LinearRegression()"
            ]
          },
          "metadata": {},
          "execution_count": 56
        }
      ]
    },
    {
      "cell_type": "code",
      "source": [
        "y_predict_PR = lin_reg2.predict(poly_reg.fit_transform(x))\n",
        "y_predict_PR"
      ],
      "metadata": {
        "colab": {
          "base_uri": "https://localhost:8080/"
        },
        "id": "BMpJA7SFgC-r",
        "outputId": "601092b4-fe8c-48c1-9b20-0ee3f2569063"
      },
      "execution_count": null,
      "outputs": [
        {
          "output_type": "execute_result",
          "data": {
            "text/plain": [
              "array([ 291138.42954683,  275097.82194567,  308945.10455751, ...,\n",
              "       1431292.41531801, 1206038.44663668, 6862750.21216059])"
            ]
          },
          "metadata": {},
          "execution_count": 57
        }
      ]
    },
    {
      "cell_type": "code",
      "source": [
        "print(r2_score(y,y_predict_PR))"
      ],
      "metadata": {
        "colab": {
          "base_uri": "https://localhost:8080/"
        },
        "id": "wkAjenOql0k5",
        "outputId": "87d59ddf-5e84-4291-9a93-6ca9d75de593"
      },
      "execution_count": null,
      "outputs": [
        {
          "output_type": "stream",
          "name": "stdout",
          "text": [
            "0.9999149743315169\n"
          ]
        }
      ]
    }
  ]
}